{
 "cells": [
  {
   "cell_type": "code",
   "execution_count": 1,
   "id": "9f42e4b0",
   "metadata": {
    "scrolled": false
   },
   "outputs": [],
   "source": [
    "import plotly.subplots as sp\n",
    "import plotly.express as px\n",
    "import pandas as pd\n",
    "import numpy as np\n",
    "import plotly.graph_objects as go\n",
    "from plotly.subplots import make_subplots\n",
    "import dash_core_components as dcc\n",
    "import statistics\n",
    "file = pd.read_excel(\"/home/adminspin/Desktop/Mayo/XLSX 工作表.xlsx\")\n",
    "file['Stain Type'] = file['Stain Color'].replace(['red-pink', 'blue', 'brown', 'cyan', 'green'], [\"H&E\",\"IHC\",\"IHC\",\"IHC\",\"Special Stain\"])\n",
    "basket = pd.read_csv(\"/home/adminspin/Desktop/Mayo/basket_data.csv\")\n",
    "basket.rename(columns = {'_source.data.slide_id':'Slide Id'}, inplace = True)\n",
    "file.rename(columns = {'System Id':'Slide Id', 'Scanner':'_source.data.scanner_name'}, inplace = True)\n",
    "df = pd.merge(file, basket, on = ['Slide Id','_source.data.scanner_name'])\n",
    "# file.columns.tolist()"
   ]
  },
  {
   "cell_type": "code",
   "execution_count": 1,
   "id": "22fc3d89",
   "metadata": {
    "scrolled": false
   },
   "outputs": [
    {
     "ename": "NameError",
     "evalue": "name 'df' is not defined",
     "output_type": "error",
     "traceback": [
      "\u001b[0;31m---------------------------------------------------------------------------\u001b[0m",
      "\u001b[0;31mNameError\u001b[0m                                 Traceback (most recent call last)",
      "Input \u001b[0;32mIn [1]\u001b[0m, in \u001b[0;36m<module>\u001b[0;34m\u001b[0m\n\u001b[0;32m----> 1\u001b[0m \u001b[38;5;28;01mfor\u001b[39;00m i \u001b[38;5;129;01min\u001b[39;00m \u001b[43mdf\u001b[49m[\u001b[38;5;124m'\u001b[39m\u001b[38;5;124m_source.data.load_identifier\u001b[39m\u001b[38;5;124m'\u001b[39m]\u001b[38;5;241m.\u001b[39munique():\n\u001b[1;32m      2\u001b[0m     data \u001b[38;5;241m=\u001b[39m df[df[\u001b[38;5;124m'\u001b[39m\u001b[38;5;124m_source.data.load_identifier\u001b[39m\u001b[38;5;124m'\u001b[39m] \u001b[38;5;241m==\u001b[39m i]\n\u001b[1;32m      3\u001b[0m     data \u001b[38;5;241m=\u001b[39m data\u001b[38;5;241m.\u001b[39msort_values([\u001b[38;5;124m\"\u001b[39m\u001b[38;5;124m_source.data.row_index\u001b[39m\u001b[38;5;124m\"\u001b[39m,\u001b[38;5;124m\"\u001b[39m\u001b[38;5;124m_source.data.col_index\u001b[39m\u001b[38;5;124m\"\u001b[39m], ascending \u001b[38;5;241m=\u001b[39m (\u001b[38;5;28;01mTrue\u001b[39;00m, \u001b[38;5;28;01mTrue\u001b[39;00m))\n",
      "\u001b[0;31mNameError\u001b[0m: name 'df' is not defined"
     ]
    }
   ],
   "source": [
    "for i in df['_source.data.load_identifier'].unique():\n",
    "    data = df[df['_source.data.load_identifier'] == i]\n",
    "    data = data.sort_values([\"_source.data.row_index\",\"_source.data.col_index\"], ascending = (True, True))\n",
    "    data.drop_duplicates(subset='row_col', keep='last', inplace=False)\n",
    "    if (len(data) > 15) & (len(data) < 121):\n",
    "        fig = px.scatter(data, y = 'Slide Planarity', x = 'row_col',color = 'Slide Planarity', marginal_y = 'histogram'\n",
    "                          ,hover_data=[\"Slide Id\", \"Stain Type\", \"Stitching Error Percentage\", \"Focus Error Percentage\",\n",
    "                                      'Fusion']) \n",
    "        fig.add_scatter(y=data['Slide Planarity'],x=data[\"row_col\"],mode=\"lines\", showlegend = False)\n",
    "        fig.update_layout(title=str(data['_source.data.scanner_name'].iloc[-1]) + ' : Slide Planarity Plot : ' + str(data['_source.data.date'].iloc[0]\n",
    "            + \" : \" + str(i)),width=1500)\n",
    "        fig.add_annotation(text = 'Total Slides Scanned: '+ str(len(data)), showarrow = False, x = 1, y = 1,\n",
    "                          xref = 'paper',yref = 'paper',\n",
    "                        font=dict(family=\"Courier New, monospace\",size=20,color=\"#000000\"))\n",
    "        fig.show()"
   ]
  },
  {
   "cell_type": "code",
   "execution_count": null,
   "id": "16ffd96b",
   "metadata": {},
   "outputs": [],
   "source": [
    "####################################################################################################################"
   ]
  },
  {
   "cell_type": "code",
   "execution_count": null,
   "id": "94db5756",
   "metadata": {},
   "outputs": [],
   "source": [
    "data = df[df['_source.data.slide_thickness'] < 2]\n",
    "fig = px.scatter(data, y = 'Slide Planarity', x = '_source.data.slide_thickness', marginal_x = 'histogram',marginal_y = 'histogram'\n",
    "                ,hover_data=[\"Slide Id\", \"Stain Type\", \"Stitching Error Percentage\", \"Focus Error Percentage\"], color = 'Stain Type')\n",
    "fig.update_layout(title = \"Slide Thickness vs Slide Planarity\", xaxis_title=\"Slide Thickness in mm\")\n",
    "fig.add_annotation(text = 'Total Slides: '+ str(len(data)), showarrow = False, x = 1, y = 1,\n",
    "                          xref = 'paper',yref = 'paper',\n",
    "                        font=dict(family=\"Courier New, monospace\",size=20,color=\"#000000\"))\n",
    "fig.show()"
   ]
  },
  {
   "cell_type": "code",
   "execution_count": null,
   "id": "57645f13",
   "metadata": {},
   "outputs": [],
   "source": []
  }
 ],
 "metadata": {
  "kernelspec": {
   "display_name": "Python 3 (ipykernel)",
   "language": "python",
   "name": "python3"
  },
  "language_info": {
   "codemirror_mode": {
    "name": "ipython",
    "version": 3
   },
   "file_extension": ".py",
   "mimetype": "text/x-python",
   "name": "python",
   "nbconvert_exporter": "python",
   "pygments_lexer": "ipython3",
   "version": "3.8.10"
  }
 },
 "nbformat": 4,
 "nbformat_minor": 5
}
