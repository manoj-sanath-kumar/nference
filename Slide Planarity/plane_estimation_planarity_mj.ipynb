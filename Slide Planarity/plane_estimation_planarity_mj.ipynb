{
 "cells": [
  {
   "cell_type": "code",
   "execution_count": 4,
   "metadata": {},
   "outputs": [],
   "source": [
    "import cv2\n",
    "import sqlite3\n",
    "import numpy\n",
    "import statistics \n",
    "import sys\n",
    "import os\n",
    "import json\n",
    "import time\n",
    "import sys\n",
    "from numpy.lib.function_base import append\n",
    "import xlsxwriter\n",
    "import matplotlib.pyplot as plt\n",
    "from os.path import join\n",
    "import numpy as np\n",
    "import pandas as pd\n",
    "import math\n",
    "from mpl_toolkits.mplot3d import Axes3D\n",
    "from _collections import deque\n",
    "from scipy.signal import argrelextrema\n",
    "import glob"
   ]
  },
  {
   "cell_type": "code",
   "execution_count": 5,
   "metadata": {},
   "outputs": [],
   "source": [
    "##Computing least-squares solution to equation Ax = b\n",
    "def plane_fitting_max_point(x,y,z):\n",
    "    y = y\n",
    "    x = x\n",
    "    z = z\n",
    "    num_points = len(x)\n",
    "    z_step_size = 1.875\n",
    "\n",
    "    # plot raw data\n",
    "#     plt.figure()\n",
    "    ax = plt.subplot(111, projection='3d')\n",
    "    ax.scatter(x, y, z, color='b')\n",
    "\n",
    "    tmp_A = []\n",
    "    tmp_b = []\n",
    "    for i in range(len(x)):\n",
    "        tmp_A.append([x[i], y[i], 1])\n",
    "        tmp_b.append(z[i])\n",
    "\n",
    "    b = np.matrix(tmp_b).T\n",
    "    A = np.matrix(tmp_A)\n",
    "\n",
    "    from scipy.linalg import lstsq\n",
    "    fit, residual, rnk, s = lstsq(A, b)\n",
    "    errors =  A * fit - b\n",
    "    plane_z = A * fit\n",
    "    \n",
    "    index_min_plane_z = np.argmin(plane_z)\n",
    "    index_max_plane_z = np.argmax(plane_z)\n",
    "#     print(\"min_x in list: \", index_min_plane_z, \" z value: \", plane_z[index_min_plane_z], \" actual min z: \", min(plane_z))\n",
    "#     print(\"min_x in list: \", index_max_plane_z, \" z value: \", plane_z[index_max_plane_z], \" actual min z: \", max(plane_z))\n",
    "\n",
    "    x_z_min_in_microns = x[index_min_plane_z]\n",
    "    x_z_max_in_microns = x[index_max_plane_z]\n",
    "    y_z_min_in_microns = y[index_min_plane_z]\n",
    "    y_z_max_in_microns = y[index_max_plane_z]\n",
    "\n",
    "    max_plane_z_diff  = max(plane_z) - min(plane_z)\n",
    "    \n",
    "    slope = (max(plane_z) - min(plane_z))/(math.dist([x_z_max_in_microns, y_z_max_in_microns], [x_z_min_in_microns, y_z_min_in_microns]))\n",
    "    print(\"Slope: \", slope)\n",
    "#     print(\"max_plane_z_diff: \", max_plane_z_diff)\n",
    "    print(\"solution: %f x + %f y + %f = z\" % (fit[0], fit[1], fit[2]))\n",
    "\n",
    "# #    plot plane\n",
    "#     xlim = ax.get_xlim()\n",
    "#     ylim = ax.get_ylim()\n",
    "#     X,Y = np.meshgrid(np.arange(xlim[0], xlim[1]),\n",
    "#                       np.arange(ylim[0], ylim[1]))\n",
    "#     Z = np.zeros(X.shape)\n",
    "#     for r in range(X.shape[0]):\n",
    "#         for c in range(X.shape[1]):\n",
    "#             Z[r,c] = fit[0] * X[r,c] + fit[1] * Y[r,c] + fit[2]\n",
    "#     ax.plot_wireframe(X,Y,Z, color='k')\n",
    "    \n",
    "#     ax.set_xlabel('x')\n",
    "#     ax.set_ylabel('y')\n",
    "#     ax.set_zlabel('z')\n",
    "#     plt.show()\n",
    "    return(fit)"
   ]
  },
  {
   "cell_type": "code",
   "execution_count": 6,
   "metadata": {
    "scrolled": false
   },
   "outputs": [
    {
     "name": "stdout",
     "output_type": "stream",
     "text": [
      "Slope:  [[0.00025787]]\n",
      "solution: 0.000092 x + -0.000299 y + 8932.866224 = z\n",
      "Slope:  [[0.00083111]]\n",
      "solution: 0.000203 x + -0.000902 y + 8950.109862 = z\n"
     ]
    },
    {
     "data": {
      "text/html": [
       "<div>\n",
       "<style scoped>\n",
       "    .dataframe tbody tr th:only-of-type {\n",
       "        vertical-align: middle;\n",
       "    }\n",
       "\n",
       "    .dataframe tbody tr th {\n",
       "        vertical-align: top;\n",
       "    }\n",
       "\n",
       "    .dataframe thead th {\n",
       "        text-align: right;\n",
       "    }\n",
       "</style>\n",
       "<table border=\"1\" class=\"dataframe\">\n",
       "  <thead>\n",
       "    <tr style=\"text-align: right;\">\n",
       "      <th></th>\n",
       "      <th>slide_name</th>\n",
       "      <th>slope_x_bel</th>\n",
       "      <th>slope_y_bel</th>\n",
       "      <th>z_shift_bel</th>\n",
       "      <th>slope_x_abv</th>\n",
       "      <th>slope_y_abv</th>\n",
       "      <th>z_shift_abv</th>\n",
       "    </tr>\n",
       "  </thead>\n",
       "  <tbody>\n",
       "    <tr>\n",
       "      <th>0</th>\n",
       "      <td>JR-20-621-A2-1_H01BBB20P-15245</td>\n",
       "      <td>0.000092</td>\n",
       "      <td>-0.000299</td>\n",
       "      <td>8932.866224</td>\n",
       "      <td>0.000203</td>\n",
       "      <td>-0.000902</td>\n",
       "      <td>8950.109862</td>\n",
       "    </tr>\n",
       "  </tbody>\n",
       "</table>\n",
       "</div>"
      ],
      "text/plain": [
       "                       slide_name  slope_x_bel  slope_y_bel  z_shift_bel  \\\n",
       "0  JR-20-621-A2-1_H01BBB20P-15245     0.000092    -0.000299  8932.866224   \n",
       "\n",
       "   slope_x_abv  slope_y_abv  z_shift_abv  \n",
       "0     0.000203    -0.000902  8950.109862  "
      ]
     },
     "execution_count": 6,
     "metadata": {},
     "output_type": "execute_result"
    },
    {
     "data": {
      "image/png": "[encoded data removed]",
      "text/plain": [
       "<Figure size 432x288 with 1 Axes>"
      ]
     },
     "metadata": {
      "needs_background": "light"
     },
     "output_type": "display_data"
    }
   ],
   "source": [
    "lsta = []\n",
    "lstb = []\n",
    "final_lst_blw = []\n",
    "final_lst_abv = []\n",
    "\n",
    "filedb = '/home/adminspin/Desktop/Planarity/JR-20-621-A2-1_H01BBB20P-15245/JR-20-621-A2-1_H01BBB20P-15245.db'\n",
    "slide_name = filedb.split('/')[-1].split('.')[0]\n",
    "# print(slide_name)\n",
    "conn = sqlite3.connect(filedb)\n",
    "c = conn.cursor()\n",
    "query = \"select grid_id, best_rows_ima from grid_info where grid_status = 10\"\n",
    "c.execute(query)\n",
    "aoi_info = c.fetchall()\n",
    "db = pd.DataFrame(aoi_info)\n",
    "db.rename(columns = {0:'grid_id',1:'best_row'}, inplace = True)\n",
    "\n",
    "query1 = \"select aoi_name, slide_row_idx, aoi_x_mic, aoi_y_mic, best_z, grid_id from aoi where focus_metric > 7 and color_metric > 40 and bg_state_acq = 0\"\n",
    "c.execute(query1)\n",
    "aoi_info = c.fetchall()\n",
    "df = pd.DataFrame(aoi_info)\n",
    "df.rename(columns = {0:'aoi_name',1:'slide_row_idx',2:'aoi_x_mic',3:'aoi_y_mic',4:'best_z',5:'grid_id'}, inplace = True)\n",
    "\n",
    "final_df = pd.DataFrame(columns = (\"slide_name\",\"slope_x_bel\",\"slope_y_bel\",\"z_shift_bel\",\"slope_x_abv\",\"slope_y_abv\",\"z_shift_abv\"))\n",
    "\n",
    "for i in db['grid_id'].unique():\n",
    "        row = db[db['grid_id'] == i].iloc[0,1]\n",
    "\n",
    "        df_low0 = df[df['grid_id'] == i]\n",
    "        df_low = df_low0[df_low0['slide_row_idx'] > int(row)]\n",
    "        x = df_low['aoi_x_mic'].tolist()\n",
    "        y = df_low['aoi_y_mic'].tolist()\n",
    "        z = df_low['best_z'].tolist()\n",
    "\n",
    "        df_high0 = df[df['grid_id'] == i]\n",
    "        df_high = df_high0[df_high0['slide_row_idx'] < int(row)]\n",
    "        x1 = df_high['aoi_x_mic'].tolist()\n",
    "        y1 = df_high['aoi_y_mic'].tolist()\n",
    "        z1 = df_high['best_z'].tolist()\n",
    "        plane_below = plane_fitting_max_point(x,y,z).tolist()\n",
    "        plane_above = plane_fitting_max_point(x1,y1,z1).tolist()\n",
    "        lstb.append(plane_below)\n",
    "        lsta.append(plane_above)\n",
    "        x11 = str(lsta[0][0])[1:-1]\n",
    "        x12 = str(lsta[0][1])[1:-1]\n",
    "        x13 = str(lsta[0][2])[1:-1]\n",
    "        x21 = str(lstb[0][0])[1:-1]\n",
    "        x22 = str(lstb[0][1])[1:-1]\n",
    "        x23 = str(lstb[0][2])[1:-1]\n",
    "        final_lst_blw.append(x21)\n",
    "        final_lst_blw.append(x22)\n",
    "        final_lst_blw.append(x23)\n",
    "        final_lst_abv.append(x11)\n",
    "        final_lst_abv.append(x12)\n",
    "        final_lst_abv.append(x13)\n",
    "        final_lst_abv = list(map(float, final_lst_abv))\n",
    "        final_lst_blw = list(map(float, final_lst_blw))\n",
    "        final_lst = final_lst_blw + final_lst_abv\n",
    "        final_lst.insert(0,slide_name)\n",
    "#         print(final_lst)\n",
    "        final_df.loc[len(final_df)] = final_lst\n",
    "final_df        "
   ]
  },
  {
   "cell_type": "code",
   "execution_count": null,
   "metadata": {},
   "outputs": [],
   "source": []
  },
  {
   "cell_type": "code",
   "execution_count": null,
   "metadata": {},
   "outputs": [],
   "source": []
  },
  {
   "cell_type": "code",
   "execution_count": null,
   "metadata": {},
   "outputs": [],
   "source": []
  },
  {
   "cell_type": "code",
   "execution_count": null,
   "metadata": {},
   "outputs": [],
   "source": []
  },
  {
   "cell_type": "code",
   "execution_count": null,
   "metadata": {},
   "outputs": [],
   "source": []
  },
  {
   "cell_type": "code",
   "execution_count": null,
   "metadata": {},
   "outputs": [],
   "source": []
  },
  {
   "cell_type": "code",
   "execution_count": null,
   "metadata": {},
   "outputs": [],
   "source": []
  },
  {
   "cell_type": "code",
   "execution_count": null,
   "metadata": {},
   "outputs": [],
   "source": []
  },
  {
   "cell_type": "code",
   "execution_count": null,
   "metadata": {},
   "outputs": [],
   "source": []
  },
  {
   "cell_type": "code",
   "execution_count": null,
   "metadata": {},
   "outputs": [],
   "source": []
  },
  {
   "cell_type": "code",
   "execution_count": null,
   "metadata": {},
   "outputs": [],
   "source": []
  },
  {
   "cell_type": "code",
   "execution_count": null,
   "metadata": {},
   "outputs": [],
   "source": []
  },
  {
   "cell_type": "code",
   "execution_count": null,
   "metadata": {},
   "outputs": [],
   "source": [
    "x = [16,13,8,3,18,16,26,33,26,31,37]\n",
    "y = [29,33,30,29,15,7,13,9,27,30,33]\n",
    "z = [ 6716.25, 6716.25, 6716.25, 6718.125, 6729.375, 6738.75, 6731.25,6736.875,6718.125,6716.25,6712.5]\n",
    "# print(\"For zplane_3d_data_slide, Eq should be:  -0.0429379 x + -0.941311 y + 6745.43 = z \")\n",
    "plane_fitting_max_point(x,y,z)\n",
    "# max_plane_z_diff\n"
   ]
  },
  {
   "cell_type": "code",
   "execution_count": null,
   "metadata": {},
   "outputs": [],
   "source": []
  },
  {
   "cell_type": "code",
   "execution_count": null,
   "metadata": {},
   "outputs": [],
   "source": []
  }
 ],
 "metadata": {
  "kernelspec": {
   "display_name": "Python 3 (ipykernel)",
   "language": "python",
   "name": "python3"
  },
  "language_info": {
   "codemirror_mode": {
    "name": "ipython",
    "version": 3
   },
   "file_extension": ".py",
   "mimetype": "text/x-python",
   "name": "python",
   "nbconvert_exporter": "python",
   "pygments_lexer": "ipython3",
   "version": "3.8.10"
  }
 },
 "nbformat": 4,
 "nbformat_minor": 2
}
