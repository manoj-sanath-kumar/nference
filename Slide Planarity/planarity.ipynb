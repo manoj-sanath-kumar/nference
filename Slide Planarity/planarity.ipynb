{
 "cells": [
  {
   "cell_type": "code",
   "execution_count": 1,
   "id": "f90dc829",
   "metadata": {},
   "outputs": [],
   "source": [
    "import plotly.subplots as sp\n",
    "import plotly.express as px\n",
    "import pandas as pd\n",
    "import numpy as np\n",
    "import plotly.graph_objects as go\n",
    "from plotly.subplots import make_subplots\n",
    "import statistics"
   ]
  },
  {
   "cell_type": "code",
   "execution_count": null,
   "id": "da4f68cc",
   "metadata": {
    "scrolled": false
   },
   "outputs": [],
   "source": [
    "rej = pd.read_csv(\"/home/adminspin/Desktop/Mayo/rescanned_slide_info.csv\")\n",
    "basket = pd.read_csv(\"/home/adminspin/Desktop/Mayo/basket_data.csv\")\n",
    "final = pd.merge(rej,basket, on = '_source.data.slide_id')\n",
    "final = final[final['_source.data.error_code'] == 'ACQ_SLIDE_PLANARITY_THRESHOLD_EXCEEDED']\n",
    "final\n",
    "# rej\n",
    "# basket.columns"
   ]
  },
  {
   "cell_type": "code",
   "execution_count": null,
   "id": "6f54066d",
   "metadata": {},
   "outputs": [],
   "source": [
    "trial = pd.read_csv(\"/home/adminspin/Downloads/trial.csv\")\n",
    "lst = trial['System Id'].tolist()\n",
    "# lst"
   ]
  },
  {
   "cell_type": "code",
   "execution_count": null,
   "id": "5c65de2b",
   "metadata": {},
   "outputs": [],
   "source": [
    "placement = pd.read_csv(\"/home/adminspin/Desktop/Mayo/slide_placement.csv\")\n",
    "placement_final = placement[placement['_source.data.slide_id'].isin(lst)]\n",
    "placement_final.columns"
   ]
  },
  {
   "cell_type": "code",
   "execution_count": null,
   "id": "12f5953b",
   "metadata": {
    "scrolled": false
   },
   "outputs": [],
   "source": [
    "df = placement_final[['_source.data.slide_id','row_col','_source.data.scanner_name','_source.data.scanner_position','_source.data.cluster_name','_source.data.actual_angle',\n",
    "'_source.data.offset_pos_x_um','_source.data.offset_pos_y_um','_source.data.actual_angle','_source.data.date']]\n",
    "df.sort_values(by = ['_source.data.date'], ascending = False)"
   ]
  },
  {
   "cell_type": "code",
   "execution_count": null,
   "id": "e90570d6",
   "metadata": {
    "scrolled": true
   },
   "outputs": [],
   "source": [
    "len(df[df['_source.data.scanner_name'] == 'H01JBA21P'])"
   ]
  },
  {
   "cell_type": "code",
   "execution_count": null,
   "id": "11be7e00",
   "metadata": {},
   "outputs": [],
   "source": [
    "len(df[df['_source.data.cluster_name'] == 'CS002'])"
   ]
  },
  {
   "cell_type": "code",
   "execution_count": null,
   "id": "bd3470fc",
   "metadata": {},
   "outputs": [],
   "source": [
    "len(df)"
   ]
  },
  {
   "cell_type": "code",
   "execution_count": null,
   "id": "850e8088",
   "metadata": {},
   "outputs": [],
   "source": [
    "max(df['_source.data.offset_pos_x_um'])"
   ]
  },
  {
   "cell_type": "code",
   "execution_count": 25,
   "id": "3cf43a58",
   "metadata": {
    "scrolled": false
   },
   "outputs": [
    {
     "data": {
      "text/plain": [
       "['Slide Name',\n",
       " 'Cluster ID',\n",
       " '_source.data.slide_id',\n",
       " 'Time',\n",
       " 'Scan Time',\n",
       " 'Localization Time',\n",
       " 'Stain Color',\n",
       " 'Slide Planarity',\n",
       " 'Biopsy Type',\n",
       " 'Bubble Present',\n",
       " 'Debris Present',\n",
       " 'Dark Region Percentage',\n",
       " 'Faint Region Percentage',\n",
       " 'Annotation Present',\n",
       " 'Stitching Error Percentage',\n",
       " 'Focus Error Percentage',\n",
       " 'Scanner',\n",
       " 'Drive',\n",
       " 'Data Path',\n",
       " 'OneX Path',\n",
       " 'Folder Url',\n",
       " 'OneX Url',\n",
       " 'Fusion',\n",
       " 'QC status',\n",
       " 'Area',\n",
       " 'QC-OK-broken-coverslip',\n",
       " 'QC-OK-broken-slide',\n",
       " 'QC-OK-extremely-faint',\n",
       " 'QC-OK-deteriorated-slide',\n",
       " 'QC-OK-FE-on-annotations',\n",
       " 'QC-OK-FE-on-stain-deposit',\n",
       " 'QC-OK-FE-on-debris',\n",
       " 'QC-OK-FE-too-many-bubbles',\n",
       " 'QC-OK-FE-around-coverslip-boundary',\n",
       " 'QC-OK-FE-false-positive',\n",
       " 'QC-OK-FE-unstained',\n",
       " 'QC-OK-SE-around-coverslip-boundary',\n",
       " 'QC-OK-SE-on-stain-deposit',\n",
       " 'QC-OK-SE-on-debris',\n",
       " 'QC-OK-SE-too-many-bubbles',\n",
       " 'QC-OK-SE-false-positive',\n",
       " 'QC-OK-SE-unstained',\n",
       " 'QC-Rescan-missing-tissue',\n",
       " 'QC-Rescan-high-focus-error',\n",
       " 'QC-Rescan-high-stitching-error',\n",
       " 'QC-Rescan-halo-around-edges-fusion-error',\n",
       " 'QC-Rescan-banding-in-background',\n",
       " 'QC-Rescan-flipped-slide',\n",
       " 'QC-Rescan-slide-not-held-properly',\n",
       " 'QC-Rescan-label-sticking-out-of-the-slide',\n",
       " 'QC-Rescan-trim-protruding-label',\n",
       " 'QC-Rescan-color-fidelity-not-satisfactory',\n",
       " 'QC-remarks',\n",
       " 'Drop Slide',\n",
       " 'Load Slide',\n",
       " 'Place Slide',\n",
       " 'Unlock Slide',\n",
       " 'Hold Validation',\n",
       " 'Gripper Status Time',\n",
       " 'Move To Drop Basket',\n",
       " 'Pick Slide From Basket',\n",
       " 'Pick Slide From Scanner',\n",
       " 'Move Into Scanner To Pick',\n",
       " 'Move To Home From Scanner',\n",
       " 'Move To Home From Drop Basket',\n",
       " 'Move To Scanner To Place Slide',\n",
       " 'Move To Nas Time',\n",
       " 'Move Dcm Time',\n",
       " 'Move Img Time',\n",
       " 'Untar Time',\n",
       " 'Decoding Time',\n",
       " 'Pyr Gen',\n",
       " 'Get Crop Regions',\n",
       " 'White Correction',\n",
       " 'Creating Slide Db',\n",
       " 'Down Sample Images',\n",
       " 'Parsing Color Values',\n",
       " 'Time To Save Outputs',\n",
       " 'Get Bounding Box Json',\n",
       " 'Time To Get Scan Area',\n",
       " 'Connecting To Slide Db',\n",
       " 'Time To Connect To Stage',\n",
       " 'Intialising Bounding Boxes',\n",
       " 'Localization Time For Slot',\n",
       " 'Time To Configure The Slot',\n",
       " 'Updating Localisation Data',\n",
       " 'Detecting Data Matrix Label',\n",
       " 'Yellow Label Detection Time',\n",
       " 'Time Taken For Ocr Detection',\n",
       " 'Slide Detection Time For Slot',\n",
       " 'Time To Detect Bounding Boxes',\n",
       " 'Time To Set Objective To Home',\n",
       " 'Time Taken For Label Detection',\n",
       " 'Time Taken For Slide Detection',\n",
       " 'Get Slide Coordinates From Slot',\n",
       " 'Time Taken For Barcode Decoding',\n",
       " 'Update Slide Name In Slide Info',\n",
       " 'Updating Slide Width And Height',\n",
       " ' Read Onex Images For Localization',\n",
       " 'Retriving Bounding Boxes Debug Data',\n",
       " 'Connecting To The Micro Imaging Camera',\n",
       " 'Setting Micro Imaging Camera As Active',\n",
       " 'Update Slide Folder Name In Slide Info',\n",
       " 'Adding Grid Information To The Database',\n",
       " 'Total Time For Entire Localization Process',\n",
       " 'Connecting To Onex Camera When It Is In Archive Mode',\n",
       " 'Validation Time',\n",
       " 'Bg Count',\n",
       " 'Fg Count',\n",
       " 'Image Capture Time',\n",
       " 'Focus Sampling Time',\n",
       " 'Blending Tiling',\n",
       " 'Dicom Generation',\n",
       " 'White Generation',\n",
       " 'Tar Time',\n",
       " 'Move To Cluster Time',\n",
       " 'Lock Slide',\n",
       " 'Read Img Before Locking',\n",
       " 'Total Lock Sequence Time',\n",
       " 'Move To Img Pos After Locking',\n",
       " 'Disconnect After Locking Sequence',\n",
       " 'Capture Img After Place After Locking',\n",
       " 'Capture 1x Img For Local After Locking',\n",
       " 'Capture Img After Place Before Locking',\n",
       " 'Compute Angle',\n",
       " 'Enable Barcode Led',\n",
       " 'Disable Barcode Led',\n",
       " 'Get Max Orientation',\n",
       " 'Slide Placement Check',\n",
       " 'Capture High Exposure Img',\n",
       " 'Total Unlock Sequence Time',\n",
       " 'Drop Slide In Reject Basket',\n",
       " 'Connect To Stage',\n",
       " 'undefined',\n",
       " 'Stain Type']"
      ]
     },
     "execution_count": 25,
     "metadata": {},
     "output_type": "execute_result"
    }
   ],
   "source": [
    "slide42 = pd.read_csv(\"/home/adminspin/Downloads/42slides.csv\")\n",
    "slide42.rename(columns = {'System Id':'_source.data.slide_id'}, inplace = True)\n",
    "(slide42.columns).tolist()"
   ]
  },
  {
   "cell_type": "code",
   "execution_count": 32,
   "id": "e287c89a",
   "metadata": {
    "scrolled": false
   },
   "outputs": [
    {
     "data": {
      "text/plain": [
       "['H01JBA21P-37089',\n",
       " 'JR-20-1000-A4-22_H01JBA21P-37065',\n",
       " 'JR-20-1000-A4-22_H01JBA21P-37065',\n",
       " 'JR-20-1000-A4-14_H01JBA21P-37064',\n",
       " 'JR-20-1000-A4-13_H01JBA21P-37063',\n",
       " 'JR-20-1000-A4-7_H01JBA21P-37060',\n",
       " 'JR-20-1007-A4-14_H01JBA21P-37059',\n",
       " 'JR-20-1000-A3-2_H01JBA21P-37058',\n",
       " 'JR-20-1007-A4-18_H01JBA21P-37056',\n",
       " 'JR-20-1062-B9-4_H01JBA21P-37051',\n",
       " 'JR-20-1000-A4-25_H01JBA21P-37043',\n",
       " 'JR-20-1007-A2-2_H01JBA21P-37038',\n",
       " 'JR-20-998-A4-8_H01JBA21P-37036',\n",
       " 'JR-20-1080-F14-3_H01JBA21P-37025',\n",
       " 'JR-20-1096-A1-2_H01JBA21P-37022',\n",
       " 'JR-20-1080-F1-3_H01JBA21P-37021',\n",
       " 'JR-20-1138-A1-2_H01JBA21P-36978']"
      ]
     },
     "execution_count": 32,
     "metadata": {},
     "output_type": "execute_result"
    }
   ],
   "source": [
    "basket = pd.read_csv(\"/home/adminspin/Desktop/Mayo/basket_data.csv\")\n",
    "final = pd.merge(slide42,basket, on = '_source.data.slide_id')\n",
    "ff = final[final['_source.data.load_identifier'] == 'CS002-2-1652812866886']\n",
    "ff['Slide Name'].tolist()\n",
    "# ff['Stain Type'].value_counts()\n",
    "# final[final['Stain Type'] == 'IHC']"
   ]
  },
  {
   "cell_type": "code",
   "execution_count": 28,
   "id": "ca87cc59",
   "metadata": {},
   "outputs": [
    {
     "data": {
      "text/plain": [
       "H01JBA21P    20\n",
       "H01BBB20P     5\n",
       "H01BBB22P     5\n",
       "H01BBB16P     4\n",
       "H01BBB18P     3\n",
       "H01BBB19P     2\n",
       "H01BBB23P     2\n",
       "H01BBB25P     2\n",
       "Name: Scanner, dtype: int64"
      ]
     },
     "execution_count": 28,
     "metadata": {},
     "output_type": "execute_result"
    }
   ],
   "source": [
    "final['Scanner'].value_counts()"
   ]
  },
  {
   "cell_type": "code",
   "execution_count": null,
   "id": "692548d3",
   "metadata": {},
   "outputs": [],
   "source": []
  },
  {
   "cell_type": "code",
   "execution_count": null,
   "id": "1a0c0971",
   "metadata": {},
   "outputs": [],
   "source": []
  },
  {
   "cell_type": "code",
   "execution_count": null,
   "id": "6b2f0023",
   "metadata": {},
   "outputs": [],
   "source": []
  },
  {
   "cell_type": "code",
   "execution_count": 6,
   "id": "9232ed52",
   "metadata": {
    "scrolled": false
   },
   "outputs": [],
   "source": [
    "df = basket[basket['_source.data.load_identifier'] == 'CS002-2-1652812866886']\n",
    "len(df)\n",
    "lst = df['_source.data.slide_id'].tolist()"
   ]
  },
  {
   "cell_type": "code",
   "execution_count": 13,
   "id": "c877c9c4",
   "metadata": {},
   "outputs": [
    {
     "data": {
      "text/plain": [
       "['_index',\n",
       " '_id',\n",
       " '_score',\n",
       " 'sort',\n",
       " '_source.data.scanner_name',\n",
       " '_source.data.scanner_position',\n",
       " '_source.data.load_identifier',\n",
       " '_source.data.row_index',\n",
       " '_source.data.col_index',\n",
       " '_source.data.slide_id',\n",
       " '_source.data.cluster_name',\n",
       " '_source.data.slide_thickness',\n",
       " '_source.data.raw_slide_thickness',\n",
       " '_source.data.time_stamp',\n",
       " 'row_col',\n",
       " '_source.data.date',\n",
       " 'Slide Name',\n",
       " 'Cluster ID',\n",
       " 'Time',\n",
       " 'Scan Time',\n",
       " 'Localization Time',\n",
       " 'Stain Color',\n",
       " 'Slide Planarity',\n",
       " 'Biopsy Type',\n",
       " 'Bubble Present',\n",
       " 'Debris Present',\n",
       " 'Dark Region Percentage',\n",
       " 'Faint Region Percentage',\n",
       " 'Annotation Present',\n",
       " 'Stitching Error Percentage',\n",
       " 'Focus Error Percentage',\n",
       " 'Scanner',\n",
       " 'Drive',\n",
       " 'Data Path',\n",
       " 'OneX Path',\n",
       " 'Folder Url',\n",
       " 'OneX Url',\n",
       " 'Fusion',\n",
       " 'QC status',\n",
       " 'Area',\n",
       " 'QC-OK-broken-coverslip',\n",
       " 'QC-OK-broken-slide',\n",
       " 'QC-OK-extremely-faint',\n",
       " 'QC-OK-deteriorated-slide',\n",
       " 'QC-OK-FE-on-annotations',\n",
       " 'QC-OK-FE-on-stain-deposit',\n",
       " 'QC-OK-FE-on-debris',\n",
       " 'QC-OK-FE-too-many-bubbles',\n",
       " 'QC-OK-FE-around-coverslip-boundary',\n",
       " 'QC-OK-FE-false-positive',\n",
       " 'QC-OK-FE-unstained',\n",
       " 'QC-OK-SE-around-coverslip-boundary',\n",
       " 'QC-OK-SE-on-stain-deposit',\n",
       " 'QC-OK-SE-on-debris',\n",
       " 'QC-OK-SE-too-many-bubbles',\n",
       " 'QC-OK-SE-false-positive',\n",
       " 'QC-OK-SE-unstained',\n",
       " 'QC-Rescan-missing-tissue',\n",
       " 'QC-Rescan-high-focus-error',\n",
       " 'QC-Rescan-high-stitching-error',\n",
       " 'QC-Rescan-halo-around-edges-fusion-error',\n",
       " 'QC-Rescan-banding-in-background',\n",
       " 'QC-Rescan-flipped-slide',\n",
       " 'QC-Rescan-slide-not-held-properly',\n",
       " 'QC-Rescan-label-sticking-out-of-the-slide',\n",
       " 'QC-Rescan-trim-protruding-label',\n",
       " 'QC-Rescan-color-fidelity-not-satisfactory',\n",
       " 'QC-remarks',\n",
       " 'Drop Slide',\n",
       " 'Load Slide',\n",
       " 'Place Slide',\n",
       " 'Unlock Slide',\n",
       " 'Hold Validation',\n",
       " 'Gripper Status Time',\n",
       " 'Move To Drop Basket',\n",
       " 'Pick Slide From Basket',\n",
       " 'Pick Slide From Scanner',\n",
       " 'Move Into Scanner To Pick',\n",
       " 'Move To Home From Scanner',\n",
       " 'Move To Home From Drop Basket',\n",
       " 'Move To Scanner To Place Slide',\n",
       " 'Move To Nas Time',\n",
       " 'Move Dcm Time',\n",
       " 'Move Img Time',\n",
       " 'Untar Time',\n",
       " 'Decoding Time',\n",
       " 'Pyr Gen',\n",
       " 'Get Crop Regions',\n",
       " 'White Correction',\n",
       " 'Creating Slide Db',\n",
       " 'Down Sample Images',\n",
       " 'Parsing Color Values',\n",
       " 'Time To Save Outputs',\n",
       " 'Get Bounding Box Json',\n",
       " 'Time To Get Scan Area',\n",
       " 'Connecting To Slide Db',\n",
       " 'Time To Connect To Stage',\n",
       " 'Intialising Bounding Boxes',\n",
       " 'Localization Time For Slot',\n",
       " 'Time To Configure The Slot',\n",
       " 'Updating Localisation Data',\n",
       " 'Detecting Data Matrix Label',\n",
       " 'Yellow Label Detection Time',\n",
       " 'Time Taken For Ocr Detection',\n",
       " 'Slide Detection Time For Slot',\n",
       " 'Time To Detect Bounding Boxes',\n",
       " 'Time To Set Objective To Home',\n",
       " 'Time Taken For Label Detection',\n",
       " 'Time Taken For Slide Detection',\n",
       " 'Get Slide Coordinates From Slot',\n",
       " 'Time Taken For Barcode Decoding',\n",
       " 'Update Slide Name In Slide Info',\n",
       " 'Updating Slide Width And Height',\n",
       " ' Read Onex Images For Localization',\n",
       " 'Retriving Bounding Boxes Debug Data',\n",
       " 'Connecting To The Micro Imaging Camera',\n",
       " 'Setting Micro Imaging Camera As Active',\n",
       " 'Update Slide Folder Name In Slide Info',\n",
       " 'Adding Grid Information To The Database',\n",
       " 'Total Time For Entire Localization Process',\n",
       " 'Connecting To Onex Camera When It Is In Archive Mode',\n",
       " 'Validation Time',\n",
       " 'Bg Count',\n",
       " 'Fg Count',\n",
       " 'Image Capture Time',\n",
       " 'Focus Sampling Time',\n",
       " 'Blending Tiling',\n",
       " 'Dicom Generation',\n",
       " 'White Generation',\n",
       " 'Tar Time',\n",
       " 'Move To Cluster Time',\n",
       " 'Lock Slide',\n",
       " 'Read Img Before Locking',\n",
       " 'Total Lock Sequence Time',\n",
       " 'Move To Img Pos After Locking',\n",
       " 'Disconnect After Locking Sequence',\n",
       " 'Capture Img After Place After Locking',\n",
       " 'Capture 1x Img For Local After Locking',\n",
       " 'Capture Img After Place Before Locking',\n",
       " 'Compute Angle',\n",
       " 'Enable Barcode Led',\n",
       " 'Disable Barcode Led',\n",
       " 'Get Max Orientation',\n",
       " 'Slide Placement Check',\n",
       " 'Capture High Exposure Img',\n",
       " 'Total Unlock Sequence Time',\n",
       " 'Drop Slide In Reject Basket',\n",
       " 'Connect To Stage',\n",
       " 'undefined',\n",
       " 'Stain Type']"
      ]
     },
     "execution_count": 13,
     "metadata": {},
     "output_type": "execute_result"
    }
   ],
   "source": [
    "p21 = pd.read_excel(\"/home/adminspin/Downloads/All_Slides_CS002_Station2.xlsx\")\n",
    "data = pd.merge(df,p21, on = '_source.data.slide_id')\n",
    "data['Stain Type'] = data['Stain Color'].replace(['red-pink', 'blue', 'brown', 'cyan', 'green','yellow','unstained'], [\"H&E\",\"IHC\",\"IHC\",\"IHC\",\"Special Stain\",\"Yellow\",\"Unstained\"])\n",
    "data.columns.tolist()"
   ]
  },
  {
   "cell_type": "code",
   "execution_count": 16,
   "id": "fda333c1",
   "metadata": {},
   "outputs": [
    {
     "data": {
      "text/plain": [
       "IHC          62\n",
       "H&E          30\n",
       "Yellow       12\n",
       "Unstained     2\n",
       "Name: Stain Type, dtype: int64"
      ]
     },
     "execution_count": 16,
     "metadata": {},
     "output_type": "execute_result"
    }
   ],
   "source": [
    "data['Stain Type'].value_counts()"
   ]
  },
  {
   "cell_type": "code",
   "execution_count": null,
   "id": "29b69c6b",
   "metadata": {},
   "outputs": [],
   "source": []
  }
 ],
 "metadata": {
  "kernelspec": {
   "display_name": "Python 3 (ipykernel)",
   "language": "python",
   "name": "python3"
  },
  "language_info": {
   "codemirror_mode": {
    "name": "ipython",
    "version": 3
   },
   "file_extension": ".py",
   "mimetype": "text/x-python",
   "name": "python",
   "nbconvert_exporter": "python",
   "pygments_lexer": "ipython3",
   "version": "3.8.10"
  }
 },
 "nbformat": 4,
 "nbformat_minor": 5
}
