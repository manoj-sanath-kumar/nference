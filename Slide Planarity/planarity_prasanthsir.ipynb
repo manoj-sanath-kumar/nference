{
 "cells": [
  {
   "cell_type": "code",
   "execution_count": 8,
   "id": "3b450356",
   "metadata": {},
   "outputs": [],
   "source": [
    "import pandas as pd\n",
    "import plotly.graph_objects as go\n",
    "import plotly.express as px\n",
    "from plotly.subplots import make_subplots\n",
    "import statistics\n",
    "import numpy as np\n",
    "import warnings\n",
    "import sqlite3\n",
    "from scipy.stats import norm\n",
    "import math\n",
    "import cv2\n",
    "import os\n",
    "import json\n",
    "import time\n",
    "import sys\n",
    "from numpy.lib.function_base import append\n",
    "import xlsxwriter\n",
    "import matplotlib.pyplot as plt\n",
    "from os.path import join\n",
    "from mpl_toolkits.mplot3d import Axes3D\n",
    "from _collections import deque\n",
    "from scipy.signal import argrelextrema\n",
    "import glob"
   ]
  },
  {
   "cell_type": "code",
   "execution_count": 9,
   "id": "ef0417b3",
   "metadata": {},
   "outputs": [],
   "source": [
    "##Computing least-squares solution to equation Ax = b\n",
    "def plane_fitting_max_point(x,y,z):\n",
    "    y = y\n",
    "    x = x\n",
    "    z = z\n",
    "    num_points = len(x)\n",
    "    z_step_size = 1.875\n",
    "\n",
    "#     ax = plt.subplot(111, projection='3d')\n",
    "#     ax.scatter(x, y, z, color='b')\n",
    "\n",
    "    tmp_A = []\n",
    "    tmp_b = []\n",
    "    for i in range(len(x)):\n",
    "        tmp_A.append([x[i], y[i], 1])\n",
    "        tmp_b.append(z[i])\n",
    "\n",
    "    b = np.matrix(tmp_b).T\n",
    "    A = np.matrix(tmp_A)\n",
    "\n",
    "    from scipy.linalg import lstsq\n",
    "    fit, residual, rnk, s = lstsq(A, b)\n",
    "    errors =  A * fit - b\n",
    "    plane_z = A * fit\n",
    "    \n",
    "    index_min_plane_z = np.argmin(plane_z)\n",
    "    index_max_plane_z = np.argmax(plane_z)\n",
    "\n",
    "    x_z_min_in_microns = x[index_min_plane_z]\n",
    "    x_z_max_in_microns = x[index_max_plane_z]\n",
    "    y_z_min_in_microns = y[index_min_plane_z]\n",
    "    y_z_max_in_microns = y[index_max_plane_z]\n",
    "\n",
    "    max_plane_z_diff  = max(plane_z) - min(plane_z)\n",
    "    \n",
    "    slope = (max(plane_z) - min(plane_z))/(math.dist([x_z_max_in_microns, y_z_max_in_microns], [x_z_min_in_microns, y_z_min_in_microns]))\n",
    "#     print(\"Slope: \", slope)\n",
    "#     print(\"solution: %f x + %f y + %f = z\" % (fit[0], fit[1], fit[2]))\n",
    "    return(slope)\n"
   ]
  },
  {
   "cell_type": "code",
   "execution_count": 3,
   "id": "db69b1f3",
   "metadata": {},
   "outputs": [
    {
     "data": {
      "text/html": [
       "<div>\n",
       "<style scoped>\n",
       "    .dataframe tbody tr th:only-of-type {\n",
       "        vertical-align: middle;\n",
       "    }\n",
       "\n",
       "    .dataframe tbody tr th {\n",
       "        vertical-align: top;\n",
       "    }\n",
       "\n",
       "    .dataframe thead th {\n",
       "        text-align: right;\n",
       "    }\n",
       "</style>\n",
       "<table border=\"1\" class=\"dataframe\">\n",
       "  <thead>\n",
       "    <tr style=\"text-align: right;\">\n",
       "      <th></th>\n",
       "      <th>aoi_name</th>\n",
       "      <th>x_pos</th>\n",
       "      <th>y_pos</th>\n",
       "      <th>row_index</th>\n",
       "      <th>column_index</th>\n",
       "      <th>best_z</th>\n",
       "      <th>z_difference</th>\n",
       "      <th>stack_size</th>\n",
       "      <th>best_index</th>\n",
       "      <th>focus_metric</th>\n",
       "    </tr>\n",
       "  </thead>\n",
       "  <tbody>\n",
       "    <tr>\n",
       "      <th>0</th>\n",
       "      <td>aoi5823</td>\n",
       "      <td>16762.50</td>\n",
       "      <td>39268.75</td>\n",
       "      <td>58</td>\n",
       "      <td>22</td>\n",
       "      <td>8589.375</td>\n",
       "      <td>8590.375</td>\n",
       "      <td>35</td>\n",
       "      <td>0</td>\n",
       "      <td>25.252554</td>\n",
       "    </tr>\n",
       "    <tr>\n",
       "      <th>1</th>\n",
       "      <td>aoi5813</td>\n",
       "      <td>11575.00</td>\n",
       "      <td>39268.75</td>\n",
       "      <td>58</td>\n",
       "      <td>12</td>\n",
       "      <td>-1.000</td>\n",
       "      <td>8590.375</td>\n",
       "      <td>21</td>\n",
       "      <td>-1</td>\n",
       "      <td>7.447018</td>\n",
       "    </tr>\n",
       "    <tr>\n",
       "      <th>2</th>\n",
       "      <td>aoi5818</td>\n",
       "      <td>14168.75</td>\n",
       "      <td>39268.75</td>\n",
       "      <td>58</td>\n",
       "      <td>17</td>\n",
       "      <td>-1.000</td>\n",
       "      <td>8590.375</td>\n",
       "      <td>21</td>\n",
       "      <td>-1</td>\n",
       "      <td>4.997743</td>\n",
       "    </tr>\n",
       "  </tbody>\n",
       "</table>\n",
       "</div>"
      ],
      "text/plain": [
       "  aoi_name     x_pos     y_pos  row_index  column_index    best_z  \\\n",
       "0  aoi5823  16762.50  39268.75         58            22  8589.375   \n",
       "1  aoi5813  11575.00  39268.75         58            12    -1.000   \n",
       "2  aoi5818  14168.75  39268.75         58            17    -1.000   \n",
       "\n",
       "   z_difference  stack_size  best_index  focus_metric  \n",
       "0      8590.375          35           0     25.252554  \n",
       "1      8590.375          21          -1      7.447018  \n",
       "2      8590.375          21          -1      4.997743  "
      ]
     },
     "execution_count": 3,
     "metadata": {},
     "output_type": "execute_result"
    }
   ],
   "source": [
    "conn = sqlite3.connect('/home/adminspin/Desktop/Planarity 2/H01EBB43P-645/H01EBB43P-645.db')\n",
    "c = conn.cursor()\n",
    "query = \"select aoi_name, x_pos, y_pos, row_index, column_index, best_z, z_difference, stack_size, best_index, focus_metric from focus_sampling_info\"\n",
    "c.execute(query)\n",
    "aoi_info = c.fetchall()\n",
    "rej = pd.DataFrame(aoi_info)\n",
    "rej.rename(columns = {0:'aoi_name',1:'x_pos',2:'y_pos',3:'row_index',4:'column_index',5:'best_z',6:'z_difference',\n",
    "                    7:'stack_size',8:'best_index',9:'focus_metric'}, inplace = True)\n",
    "rej"
   ]
  },
  {
   "cell_type": "code",
   "execution_count": 4,
   "id": "897b51eb",
   "metadata": {},
   "outputs": [
    {
     "name": "stderr",
     "output_type": "stream",
     "text": [
      "/tmp/ipykernel_7805/2626816086.py:36: RuntimeWarning: invalid value encountered in true_divide\n",
      "  slope = (max(plane_z) - min(plane_z))/(math.dist([x_z_max_in_microns, y_z_max_in_microns], [x_z_min_in_microns, y_z_min_in_microns]))\n"
     ]
    },
    {
     "data": {
      "text/plain": [
       "[nan]"
      ]
     },
     "execution_count": 4,
     "metadata": {},
     "output_type": "execute_result"
    }
   ],
   "source": [
    "rej = rej[rej['best_z'] > 0]\n",
    "x = rej['x_pos'].tolist()\n",
    "y = rej['y_pos'].tolist()\n",
    "z = rej['best_z'].tolist()\n",
    "aa = plane_fitting_max_point(x,y,z).tolist()[0]\n",
    "aa"
   ]
  },
  {
   "cell_type": "code",
   "execution_count": null,
   "id": "8d68eaa8",
   "metadata": {},
   "outputs": [],
   "source": []
  },
  {
   "cell_type": "code",
   "execution_count": null,
   "id": "e47517b6",
   "metadata": {},
   "outputs": [],
   "source": []
  },
  {
   "cell_type": "code",
   "execution_count": null,
   "id": "62eb7a5d",
   "metadata": {},
   "outputs": [],
   "source": []
  },
  {
   "cell_type": "code",
   "execution_count": null,
   "id": "60ef9338",
   "metadata": {},
   "outputs": [],
   "source": []
  },
  {
   "cell_type": "code",
   "execution_count": null,
   "id": "3ebdf9f3",
   "metadata": {},
   "outputs": [],
   "source": []
  },
  {
   "cell_type": "code",
   "execution_count": null,
   "id": "fc3869b0",
   "metadata": {},
   "outputs": [],
   "source": []
  },
  {
   "cell_type": "code",
   "execution_count": null,
   "id": "760d60c6",
   "metadata": {},
   "outputs": [],
   "source": []
  },
  {
   "cell_type": "code",
   "execution_count": null,
   "id": "1351ee9d",
   "metadata": {},
   "outputs": [],
   "source": []
  },
  {
   "cell_type": "code",
   "execution_count": 10,
   "id": "812d7a32",
   "metadata": {},
   "outputs": [
    {
     "name": "stderr",
     "output_type": "stream",
     "text": [
      "/tmp/ipykernel_7805/2626816086.py:36: RuntimeWarning:\n",
      "\n",
      "invalid value encountered in true_divide\n",
      "\n"
     ]
    },
    {
     "data": {
      "application/vnd.plotly.v1+json": {
       "config": {
        "plotlyServerURL": "https://plot.ly"
       },
       "data": [
        {
         "hovertemplate": "scan_status=scanned<br>slide_name=%{x}<br>best_row_slope=%{y}<extra></extra>",
         "legendgroup": "scanned",
         "marker": {
          "color": "#636efa",
          "symbol": "circle"
         },
         "mode": "markers",
         "name": "scanned",
         "orientation": "v",
         "showlegend": true,
         "type": "scatter",
         "x": [
          "JR-20-616-F6-2_H01BBB22P-15168",
          "JR-20-616-F7-2_H01BBB22P-15167",
          "JR-20-616-G1-1_H01BBB22P-15165",
          "JR-20-618-C1-2_H01BBB22P-15158",
          "JR-20-618-C14-1_H01BBB22P-15145",
          "JR-20-618-C18-2_H01BBB22P-15140",
          "JR-20-618-C18-3_H01BBB22P-15139",
          "JR-20-618-C20-1_H01BBB22P-15134",
          "JR-20-618-C21-1_H01BBB22P-15136",
          "JR-20-618-C22-1_H01BBB22P-15135",
          "JR-20-618-C23-1_H01BBB22P-15133",
          "JR-20-618-C24-1_H01BBB22P-15132",
          "JR-20-618-C25-1_H01BBB22P-15131",
          "JR-20-618-C26-1_H01BBB22P-15130",
          "JR-20-618-C27-1_H01BBB22P-15129",
          "JR-20-618-C28-1_H01BBB22P-15128",
          "JR-20-618-C29-1_H01BBB22P-15127",
          "JR-20-618-C3-2_H01BBB22P-15156",
          "JR-20-618-D1-2_H01BBB22P-15126",
          "JR-20-618-D1-3_H01BBB22P-15125",
          "JR-20-618-D1-4_H01BBB22P-15124",
          "JR-20-618-E1-5_H01BBB20P-15285",
          "JR-20-618-G3-2_H01BBB20P-15278",
          "JR-20-619-B1-4_H01BBB20P-15268",
          "JR-20-619-D1-2_H01BBB20P-15265",
          "JR-20-619-D1-3_H01BBB20P-15264",
          "JR-20-619-D1-4_H01BBB20P-15263",
          "JR-20-619-E1-2_H01BBB20P-15262",
          "JR-20-619-F1-2_H01BBB20P-15261",
          "JR-20-619-F1-3_H01BBB20P-15260",
          "JR-20-619-F1-4_H01BBB20P-15259",
          "JR-20-619-F1-5_H01BBB20P-15258",
          "JR-20-620-A3-1_H01BBB20P-15255",
          "JR-20-620-A4-1_H01BBB20P-15254",
          "JR-20-620-A4-4_H01BBB20P-15253",
          "JR-20-620-A5-1_H01BBB20P-15250",
          "JR-20-620-A6-1_H01BBB20P-15249",
          "JR-20-620-A7-1_H01BBB20P-15248",
          "JR-20-621-A1-1_H01BBB20P-15246",
          "JR-20-621-B1-1_H01BBB20P-15244",
          "JR-20-1000-A4-22_H01JBA21P-37065",
          "JR-20-1007-A4-14_H01JBA21P-37059"
         ],
         "xaxis": "x",
         "y": [
          4.884402474818075e-05,
          0.0006454388984511971,
          0.0006454388984511971,
          0.0006024096385542169,
          0.00030120481927710846,
          0.0018072289156626507,
          0.004153859253267534,
          0.00030120481927740065,
          0.0009036144578313253,
          0.00045180722891566266,
          0.0010843373493975904,
          0.0004283801874167216,
          0.00028460297884512996,
          null,
          0.000774526678141136,
          0.00031502155410671696,
          0.00010639962447191759,
          0.0002582180574149831,
          0.0009036144578316175,
          0.0006707136886717517,
          0.0010455890493341216,
          0.0009036144578304486,
          0.0012545595224938645,
          0.000903614457830887,
          6.819731757205336e-05,
          0.000479468895992105,
          0.000903614457830887,
          0.0007228915662650603,
          0.001151976326358342,
          0.00014247102478351237,
          0.00010997837503870392,
          0.0006684646620842942,
          0.00150602409638525,
          0.0019248592001140533,
          0.001204819277108239,
          0.0013554216867472072,
          0.0005549758087465604,
          0.0002703728299022396,
          0.0003804692454027371,
          0.0006024096385542169,
          0.004922547332185845,
          0.004154216867469271
         ],
         "yaxis": "y"
        },
        {
         "hovertemplate": "scan_status=rejected<br>slide_name=%{x}<br>best_row_slope=%{y}<extra></extra>",
         "legendgroup": "rejected",
         "marker": {
          "color": "#EF553B",
          "symbol": "circle"
         },
         "mode": "markers",
         "name": "rejected",
         "orientation": "v",
         "showlegend": true,
         "type": "scatter",
         "x": [
          "JR-20-1000-A4-13_H01BBB20P-18974",
          "JR-20-1000-A4-13_H01JBA21P-37063",
          "JR-20-1000-A4-14_H01BBB20P-18972",
          "JR-20-1000-A4-14_H01JBA21P-37064",
          "JR-20-1000-A4-22_H01BBB20P-18964",
          "JR-20-1007-A4-14_H01BBB18P-19110"
         ],
         "xaxis": "x",
         "y": [
          0.009638554216865132,
          0.009638554216866302,
          0.009638554216866302,
          0.00963855421686747,
          0.009638554216868638,
          0.00963855421686747
         ],
         "yaxis": "y"
        }
       ],
       "layout": {
        "height": 700,
        "legend": {
         "title": {
          "text": "scan_status"
         },
         "tracegroupgap": 0
        },
        "margin": {
         "t": 60
        },
        "template": {
         "data": {
          "bar": [
           {
            "error_x": {
             "color": "#2a3f5f"
            },
            "error_y": {
             "color": "#2a3f5f"
            },
            "marker": {
             "line": {
              "color": "#E5ECF6",
              "width": 0.5
             },
             "pattern": {
              "fillmode": "overlay",
              "size": 10,
              "solidity": 0.2
             }
            },
            "type": "bar"
           }
          ],
          "barpolar": [
           {
            "marker": {
             "line": {
              "color": "#E5ECF6",
              "width": 0.5
             },
             "pattern": {
              "fillmode": "overlay",
              "size": 10,
              "solidity": 0.2
             }
            },
            "type": "barpolar"
           }
          ],
          "carpet": [
           {
            "aaxis": {
             "endlinecolor": "#2a3f5f",
             "gridcolor": "white",
             "linecolor": "white",
             "minorgridcolor": "white",
             "startlinecolor": "#2a3f5f"
            },
            "baxis": {
             "endlinecolor": "#2a3f5f",
             "gridcolor": "white",
             "linecolor": "white",
             "minorgridcolor": "white",
             "startlinecolor": "#2a3f5f"
            },
            "type": "carpet"
           }
          ],
          "choropleth": [
           {
            "colorbar": {
             "outlinewidth": 0,
             "ticks": ""
            },
            "type": "choropleth"
           }
          ],
          "contour": [
           {
            "colorbar": {
             "outlinewidth": 0,
             "ticks": ""
            },
            "colorscale": [
             [
              0,
              "#0d0887"
             ],
             [
              0.1111111111111111,
              "#46039f"
             ],
             [
              0.2222222222222222,
              "#7201a8"
             ],
             [
              0.3333333333333333,
              "#9c179e"
             ],
             [
              0.4444444444444444,
              "#bd3786"
             ],
             [
              0.5555555555555556,
              "#d8576b"
             ],
             [
              0.6666666666666666,
              "#ed7953"
             ],
             [
              0.7777777777777778,
              "#fb9f3a"
             ],
             [
              0.8888888888888888,
              "#fdca26"
             ],
             [
              1,
              "#f0f921"
             ]
            ],
            "type": "contour"
           }
          ],
          "contourcarpet": [
           {
            "colorbar": {
             "outlinewidth": 0,
             "ticks": ""
            },
            "type": "contourcarpet"
           }
          ],
          "heatmap": [
           {
            "colorbar": {
             "outlinewidth": 0,
             "ticks": ""
            },
            "colorscale": [
             [
              0,
              "#0d0887"
             ],
             [
              0.1111111111111111,
              "#46039f"
             ],
             [
              0.2222222222222222,
              "#7201a8"
             ],
             [
              0.3333333333333333,
              "#9c179e"
             ],
             [
              0.4444444444444444,
              "#bd3786"
             ],
             [
              0.5555555555555556,
              "#d8576b"
             ],
             [
              0.6666666666666666,
              "#ed7953"
             ],
             [
              0.7777777777777778,
              "#fb9f3a"
             ],
             [
              0.8888888888888888,
              "#fdca26"
             ],
             [
              1,
              "#f0f921"
             ]
            ],
            "type": "heatmap"
           }
          ],
          "heatmapgl": [
           {
            "colorbar": {
             "outlinewidth": 0,
             "ticks": ""
            },
            "colorscale": [
             [
              0,
              "#0d0887"
             ],
             [
              0.1111111111111111,
              "#46039f"
             ],
             [
              0.2222222222222222,
              "#7201a8"
             ],
             [
              0.3333333333333333,
              "#9c179e"
             ],
             [
              0.4444444444444444,
              "#bd3786"
             ],
             [
              0.5555555555555556,
              "#d8576b"
             ],
             [
              0.6666666666666666,
              "#ed7953"
             ],
             [
              0.7777777777777778,
              "#fb9f3a"
             ],
             [
              0.8888888888888888,
              "#fdca26"
             ],
             [
              1,
              "#f0f921"
             ]
            ],
            "type": "heatmapgl"
           }
          ],
          "histogram": [
           {
            "marker": {
             "pattern": {
              "fillmode": "overlay",
              "size": 10,
              "solidity": 0.2
             }
            },
            "type": "histogram"
           }
          ],
          "histogram2d": [
           {
            "colorbar": {
             "outlinewidth": 0,
             "ticks": ""
            },
            "colorscale": [
             [
              0,
              "#0d0887"
             ],
             [
              0.1111111111111111,
              "#46039f"
             ],
             [
              0.2222222222222222,
              "#7201a8"
             ],
             [
              0.3333333333333333,
              "#9c179e"
             ],
             [
              0.4444444444444444,
              "#bd3786"
             ],
             [
              0.5555555555555556,
              "#d8576b"
             ],
             [
              0.6666666666666666,
              "#ed7953"
             ],
             [
              0.7777777777777778,
              "#fb9f3a"
             ],
             [
              0.8888888888888888,
              "#fdca26"
             ],
             [
              1,
              "#f0f921"
             ]
            ],
            "type": "histogram2d"
           }
          ],
          "histogram2dcontour": [
           {
            "colorbar": {
             "outlinewidth": 0,
             "ticks": ""
            },
            "colorscale": [
             [
              0,
              "#0d0887"
             ],
             [
              0.1111111111111111,
              "#46039f"
             ],
             [
              0.2222222222222222,
              "#7201a8"
             ],
             [
              0.3333333333333333,
              "#9c179e"
             ],
             [
              0.4444444444444444,
              "#bd3786"
             ],
             [
              0.5555555555555556,
              "#d8576b"
             ],
             [
              0.6666666666666666,
              "#ed7953"
             ],
             [
              0.7777777777777778,
              "#fb9f3a"
             ],
             [
              0.8888888888888888,
              "#fdca26"
             ],
             [
              1,
              "#f0f921"
             ]
            ],
            "type": "histogram2dcontour"
           }
          ],
          "mesh3d": [
           {
            "colorbar": {
             "outlinewidth": 0,
             "ticks": ""
            },
            "type": "mesh3d"
           }
          ],
          "parcoords": [
           {
            "line": {
             "colorbar": {
              "outlinewidth": 0,
              "ticks": ""
             }
            },
            "type": "parcoords"
           }
          ],
          "pie": [
           {
            "automargin": true,
            "type": "pie"
           }
          ],
          "scatter": [
           {
            "fillpattern": {
             "fillmode": "overlay",
             "size": 10,
             "solidity": 0.2
            },
            "type": "scatter"
           }
          ],
          "scatter3d": [
           {
            "line": {
             "colorbar": {
              "outlinewidth": 0,
              "ticks": ""
             }
            },
            "marker": {
             "colorbar": {
              "outlinewidth": 0,
              "ticks": ""
             }
            },
            "type": "scatter3d"
           }
          ],
          "scattercarpet": [
           {
            "marker": {
             "colorbar": {
              "outlinewidth": 0,
              "ticks": ""
             }
            },
            "type": "scattercarpet"
           }
          ],
          "scattergeo": [
           {
            "marker": {
             "colorbar": {
              "outlinewidth": 0,
              "ticks": ""
             }
            },
            "type": "scattergeo"
           }
          ],
          "scattergl": [
           {
            "marker": {
             "colorbar": {
              "outlinewidth": 0,
              "ticks": ""
             }
            },
            "type": "scattergl"
           }
          ],
          "scattermapbox": [
           {
            "marker": {
             "colorbar": {
              "outlinewidth": 0,
              "ticks": ""
             }
            },
            "type": "scattermapbox"
           }
          ],
          "scatterpolar": [
           {
            "marker": {
             "colorbar": {
              "outlinewidth": 0,
              "ticks": ""
             }
            },
            "type": "scatterpolar"
           }
          ],
          "scatterpolargl": [
           {
            "marker": {
             "colorbar": {
              "outlinewidth": 0,
              "ticks": ""
             }
            },
            "type": "scatterpolargl"
           }
          ],
          "scatterternary": [
           {
            "marker": {
             "colorbar": {
              "outlinewidth": 0,
              "ticks": ""
             }
            },
            "type": "scatterternary"
           }
          ],
          "surface": [
           {
            "colorbar": {
             "outlinewidth": 0,
             "ticks": ""
            },
            "colorscale": [
             [
              0,
              "#0d0887"
             ],
             [
              0.1111111111111111,
              "#46039f"
             ],
             [
              0.2222222222222222,
              "#7201a8"
             ],
             [
              0.3333333333333333,
              "#9c179e"
             ],
             [
              0.4444444444444444,
              "#bd3786"
             ],
             [
              0.5555555555555556,
              "#d8576b"
             ],
             [
              0.6666666666666666,
              "#ed7953"
             ],
             [
              0.7777777777777778,
              "#fb9f3a"
             ],
             [
              0.8888888888888888,
              "#fdca26"
             ],
             [
              1,
              "#f0f921"
             ]
            ],
            "type": "surface"
           }
          ],
          "table": [
           {
            "cells": {
             "fill": {
              "color": "#EBF0F8"
             },
             "line": {
              "color": "white"
             }
            },
            "header": {
             "fill": {
              "color": "#C8D4E3"
             },
             "line": {
              "color": "white"
             }
            },
            "type": "table"
           }
          ]
         },
         "layout": {
          "annotationdefaults": {
           "arrowcolor": "#2a3f5f",
           "arrowhead": 0,
           "arrowwidth": 1
          },
          "autotypenumbers": "strict",
          "coloraxis": {
           "colorbar": {
            "outlinewidth": 0,
            "ticks": ""
           }
          },
          "colorscale": {
           "diverging": [
            [
             0,
             "#8e0152"
            ],
            [
             0.1,
             "#c51b7d"
            ],
            [
             0.2,
             "#de77ae"
            ],
            [
             0.3,
             "#f1b6da"
            ],
            [
             0.4,
             "#fde0ef"
            ],
            [
             0.5,
             "#f7f7f7"
            ],
            [
             0.6,
             "#e6f5d0"
            ],
            [
             0.7,
             "#b8e186"
            ],
            [
             0.8,
             "#7fbc41"
            ],
            [
             0.9,
             "#4d9221"
            ],
            [
             1,
             "#276419"
            ]
           ],
           "sequential": [
            [
             0,
             "#0d0887"
            ],
            [
             0.1111111111111111,
             "#46039f"
            ],
            [
             0.2222222222222222,
             "#7201a8"
            ],
            [
             0.3333333333333333,
             "#9c179e"
            ],
            [
             0.4444444444444444,
             "#bd3786"
            ],
            [
             0.5555555555555556,
             "#d8576b"
            ],
            [
             0.6666666666666666,
             "#ed7953"
            ],
            [
             0.7777777777777778,
             "#fb9f3a"
            ],
            [
             0.8888888888888888,
             "#fdca26"
            ],
            [
             1,
             "#f0f921"
            ]
           ],
           "sequentialminus": [
            [
             0,
             "#0d0887"
            ],
            [
             0.1111111111111111,
             "#46039f"
            ],
            [
             0.2222222222222222,
             "#7201a8"
            ],
            [
             0.3333333333333333,
             "#9c179e"
            ],
            [
             0.4444444444444444,
             "#bd3786"
            ],
            [
             0.5555555555555556,
             "#d8576b"
            ],
            [
             0.6666666666666666,
             "#ed7953"
            ],
            [
             0.7777777777777778,
             "#fb9f3a"
            ],
            [
             0.8888888888888888,
             "#fdca26"
            ],
            [
             1,
             "#f0f921"
            ]
           ]
          },
          "colorway": [
           "#636efa",
           "#EF553B",
           "#00cc96",
           "#ab63fa",
           "#FFA15A",
           "#19d3f3",
           "#FF6692",
           "#B6E880",
           "#FF97FF",
           "#FECB52"
          ],
          "font": {
           "color": "#2a3f5f"
          },
          "geo": {
           "bgcolor": "white",
           "lakecolor": "white",
           "landcolor": "#E5ECF6",
           "showlakes": true,
           "showland": true,
           "subunitcolor": "white"
          },
          "hoverlabel": {
           "align": "left"
          },
          "hovermode": "closest",
          "mapbox": {
           "style": "light"
          },
          "paper_bgcolor": "white",
          "plot_bgcolor": "#E5ECF6",
          "polar": {
           "angularaxis": {
            "gridcolor": "white",
            "linecolor": "white",
            "ticks": ""
           },
           "bgcolor": "#E5ECF6",
           "radialaxis": {
            "gridcolor": "white",
            "linecolor": "white",
            "ticks": ""
           }
          },
          "scene": {
           "xaxis": {
            "backgroundcolor": "#E5ECF6",
            "gridcolor": "white",
            "gridwidth": 2,
            "linecolor": "white",
            "showbackground": true,
            "ticks": "",
            "zerolinecolor": "white"
           },
           "yaxis": {
            "backgroundcolor": "#E5ECF6",
            "gridcolor": "white",
            "gridwidth": 2,
            "linecolor": "white",
            "showbackground": true,
            "ticks": "",
            "zerolinecolor": "white"
           },
           "zaxis": {
            "backgroundcolor": "#E5ECF6",
            "gridcolor": "white",
            "gridwidth": 2,
            "linecolor": "white",
            "showbackground": true,
            "ticks": "",
            "zerolinecolor": "white"
           }
          },
          "shapedefaults": {
           "line": {
            "color": "#2a3f5f"
           }
          },
          "ternary": {
           "aaxis": {
            "gridcolor": "white",
            "linecolor": "white",
            "ticks": ""
           },
           "baxis": {
            "gridcolor": "white",
            "linecolor": "white",
            "ticks": ""
           },
           "bgcolor": "#E5ECF6",
           "caxis": {
            "gridcolor": "white",
            "linecolor": "white",
            "ticks": ""
           }
          },
          "title": {
           "x": 0.05
          },
          "xaxis": {
           "automargin": true,
           "gridcolor": "white",
           "linecolor": "white",
           "ticks": "",
           "title": {
            "standoff": 15
           },
           "zerolinecolor": "white",
           "zerolinewidth": 2
          },
          "yaxis": {
           "automargin": true,
           "gridcolor": "white",
           "linecolor": "white",
           "ticks": "",
           "title": {
            "standoff": 15
           },
           "zerolinecolor": "white",
           "zerolinewidth": 2
          }
         }
        },
        "xaxis": {
         "anchor": "y",
         "domain": [
          0,
          1
         ],
         "title": {
          "text": "slide_name"
         }
        },
        "yaxis": {
         "anchor": "x",
         "domain": [
          0,
          1
         ],
         "title": {
          "text": "best_row_slope"
         }
        }
       }
      },
      "text/html": [
       "<div>                            <div id=\"e77b776f-30d6-40e1-bb8e-67b1a43eca3b\" class=\"plotly-graph-div\" style=\"height:700px; width:100%;\"></div>            <script type=\"text/javascript\">                require([\"plotly\"], function(Plotly) {                    window.PLOTLYENV=window.PLOTLYENV || {};                                    if (document.getElementById(\"e77b776f-30d6-40e1-bb8e-67b1a43eca3b\")) {                    Plotly.newPlot(                        \"e77b776f-30d6-40e1-bb8e-67b1a43eca3b\",                        [{\"hovertemplate\":\"scan_status=scanned<br>slide_name=%{x}<br>best_row_slope=%{y}<extra></extra>\",\"legendgroup\":\"scanned\",\"marker\":{\"color\":\"#636efa\",\"symbol\":\"circle\"},\"mode\":\"markers\",\"name\":\"scanned\",\"orientation\":\"v\",\"showlegend\":true,\"x\":[\"JR-20-616-F6-2_H01BBB22P-15168\",\"JR-20-616-F7-2_H01BBB22P-15167\",\"JR-20-616-G1-1_H01BBB22P-15165\",\"JR-20-618-C1-2_H01BBB22P-15158\",\"JR-20-618-C14-1_H01BBB22P-15145\",\"JR-20-618-C18-2_H01BBB22P-15140\",\"JR-20-618-C18-3_H01BBB22P-15139\",\"JR-20-618-C20-1_H01BBB22P-15134\",\"JR-20-618-C21-1_H01BBB22P-15136\",\"JR-20-618-C22-1_H01BBB22P-15135\",\"JR-20-618-C23-1_H01BBB22P-15133\",\"JR-20-618-C24-1_H01BBB22P-15132\",\"JR-20-618-C25-1_H01BBB22P-15131\",\"JR-20-618-C26-1_H01BBB22P-15130\",\"JR-20-618-C27-1_H01BBB22P-15129\",\"JR-20-618-C28-1_H01BBB22P-15128\",\"JR-20-618-C29-1_H01BBB22P-15127\",\"JR-20-618-C3-2_H01BBB22P-15156\",\"JR-20-618-D1-2_H01BBB22P-15126\",\"JR-20-618-D1-3_H01BBB22P-15125\",\"JR-20-618-D1-4_H01BBB22P-15124\",\"JR-20-618-E1-5_H01BBB20P-15285\",\"JR-20-618-G3-2_H01BBB20P-15278\",\"JR-20-619-B1-4_H01BBB20P-15268\",\"JR-20-619-D1-2_H01BBB20P-15265\",\"JR-20-619-D1-3_H01BBB20P-15264\",\"JR-20-619-D1-4_H01BBB20P-15263\",\"JR-20-619-E1-2_H01BBB20P-15262\",\"JR-20-619-F1-2_H01BBB20P-15261\",\"JR-20-619-F1-3_H01BBB20P-15260\",\"JR-20-619-F1-4_H01BBB20P-15259\",\"JR-20-619-F1-5_H01BBB20P-15258\",\"JR-20-620-A3-1_H01BBB20P-15255\",\"JR-20-620-A4-1_H01BBB20P-15254\",\"JR-20-620-A4-4_H01BBB20P-15253\",\"JR-20-620-A5-1_H01BBB20P-15250\",\"JR-20-620-A6-1_H01BBB20P-15249\",\"JR-20-620-A7-1_H01BBB20P-15248\",\"JR-20-621-A1-1_H01BBB20P-15246\",\"JR-20-621-B1-1_H01BBB20P-15244\",\"JR-20-1000-A4-22_H01JBA21P-37065\",\"JR-20-1007-A4-14_H01JBA21P-37059\"],\"xaxis\":\"x\",\"y\":[4.884402474818075e-05,0.0006454388984511971,0.0006454388984511971,0.0006024096385542169,0.00030120481927710846,0.0018072289156626507,0.004153859253267534,0.00030120481927740065,0.0009036144578313253,0.00045180722891566266,0.0010843373493975904,0.0004283801874167216,0.00028460297884512996,null,0.000774526678141136,0.00031502155410671696,0.00010639962447191759,0.0002582180574149831,0.0009036144578316175,0.0006707136886717517,0.0010455890493341216,0.0009036144578304486,0.0012545595224938645,0.000903614457830887,6.819731757205336e-05,0.000479468895992105,0.000903614457830887,0.0007228915662650603,0.001151976326358342,0.00014247102478351237,0.00010997837503870392,0.0006684646620842942,0.00150602409638525,0.0019248592001140533,0.001204819277108239,0.0013554216867472072,0.0005549758087465604,0.0002703728299022396,0.0003804692454027371,0.0006024096385542169,0.004922547332185845,0.004154216867469271],\"yaxis\":\"y\",\"type\":\"scatter\"},{\"hovertemplate\":\"scan_status=rejected<br>slide_name=%{x}<br>best_row_slope=%{y}<extra></extra>\",\"legendgroup\":\"rejected\",\"marker\":{\"color\":\"#EF553B\",\"symbol\":\"circle\"},\"mode\":\"markers\",\"name\":\"rejected\",\"orientation\":\"v\",\"showlegend\":true,\"x\":[\"JR-20-1000-A4-13_H01BBB20P-18974\",\"JR-20-1000-A4-13_H01JBA21P-37063\",\"JR-20-1000-A4-14_H01BBB20P-18972\",\"JR-20-1000-A4-14_H01JBA21P-37064\",\"JR-20-1000-A4-22_H01BBB20P-18964\",\"JR-20-1007-A4-14_H01BBB18P-19110\"],\"xaxis\":\"x\",\"y\":[0.009638554216865132,0.009638554216866302,0.009638554216866302,0.00963855421686747,0.009638554216868638,0.00963855421686747],\"yaxis\":\"y\",\"type\":\"scatter\"}],                        {\"template\":{\"data\":{\"histogram2dcontour\":[{\"type\":\"histogram2dcontour\",\"colorbar\":{\"outlinewidth\":0,\"ticks\":\"\"},\"colorscale\":[[0.0,\"#0d0887\"],[0.1111111111111111,\"#46039f\"],[0.2222222222222222,\"#7201a8\"],[0.3333333333333333,\"#9c179e\"],[0.4444444444444444,\"#bd3786\"],[0.5555555555555556,\"#d8576b\"],[0.6666666666666666,\"#ed7953\"],[0.7777777777777778,\"#fb9f3a\"],[0.8888888888888888,\"#fdca26\"],[1.0,\"#f0f921\"]]}],\"choropleth\":[{\"type\":\"choropleth\",\"colorbar\":{\"outlinewidth\":0,\"ticks\":\"\"}}],\"histogram2d\":[{\"type\":\"histogram2d\",\"colorbar\":{\"outlinewidth\":0,\"ticks\":\"\"},\"colorscale\":[[0.0,\"#0d0887\"],[0.1111111111111111,\"#46039f\"],[0.2222222222222222,\"#7201a8\"],[0.3333333333333333,\"#9c179e\"],[0.4444444444444444,\"#bd3786\"],[0.5555555555555556,\"#d8576b\"],[0.6666666666666666,\"#ed7953\"],[0.7777777777777778,\"#fb9f3a\"],[0.8888888888888888,\"#fdca26\"],[1.0,\"#f0f921\"]]}],\"heatmap\":[{\"type\":\"heatmap\",\"colorbar\":{\"outlinewidth\":0,\"ticks\":\"\"},\"colorscale\":[[0.0,\"#0d0887\"],[0.1111111111111111,\"#46039f\"],[0.2222222222222222,\"#7201a8\"],[0.3333333333333333,\"#9c179e\"],[0.4444444444444444,\"#bd3786\"],[0.5555555555555556,\"#d8576b\"],[0.6666666666666666,\"#ed7953\"],[0.7777777777777778,\"#fb9f3a\"],[0.8888888888888888,\"#fdca26\"],[1.0,\"#f0f921\"]]}],\"heatmapgl\":[{\"type\":\"heatmapgl\",\"colorbar\":{\"outlinewidth\":0,\"ticks\":\"\"},\"colorscale\":[[0.0,\"#0d0887\"],[0.1111111111111111,\"#46039f\"],[0.2222222222222222,\"#7201a8\"],[0.3333333333333333,\"#9c179e\"],[0.4444444444444444,\"#bd3786\"],[0.5555555555555556,\"#d8576b\"],[0.6666666666666666,\"#ed7953\"],[0.7777777777777778,\"#fb9f3a\"],[0.8888888888888888,\"#fdca26\"],[1.0,\"#f0f921\"]]}],\"contourcarpet\":[{\"type\":\"contourcarpet\",\"colorbar\":{\"outlinewidth\":0,\"ticks\":\"\"}}],\"contour\":[{\"type\":\"contour\",\"colorbar\":{\"outlinewidth\":0,\"ticks\":\"\"},\"colorscale\":[[0.0,\"#0d0887\"],[0.1111111111111111,\"#46039f\"],[0.2222222222222222,\"#7201a8\"],[0.3333333333333333,\"#9c179e\"],[0.4444444444444444,\"#bd3786\"],[0.5555555555555556,\"#d8576b\"],[0.6666666666666666,\"#ed7953\"],[0.7777777777777778,\"#fb9f3a\"],[0.8888888888888888,\"#fdca26\"],[1.0,\"#f0f921\"]]}],\"surface\":[{\"type\":\"surface\",\"colorbar\":{\"outlinewidth\":0,\"ticks\":\"\"},\"colorscale\":[[0.0,\"#0d0887\"],[0.1111111111111111,\"#46039f\"],[0.2222222222222222,\"#7201a8\"],[0.3333333333333333,\"#9c179e\"],[0.4444444444444444,\"#bd3786\"],[0.5555555555555556,\"#d8576b\"],[0.6666666666666666,\"#ed7953\"],[0.7777777777777778,\"#fb9f3a\"],[0.8888888888888888,\"#fdca26\"],[1.0,\"#f0f921\"]]}],\"mesh3d\":[{\"type\":\"mesh3d\",\"colorbar\":{\"outlinewidth\":0,\"ticks\":\"\"}}],\"scatter\":[{\"fillpattern\":{\"fillmode\":\"overlay\",\"size\":10,\"solidity\":0.2},\"type\":\"scatter\"}],\"parcoords\":[{\"type\":\"parcoords\",\"line\":{\"colorbar\":{\"outlinewidth\":0,\"ticks\":\"\"}}}],\"scatterpolargl\":[{\"type\":\"scatterpolargl\",\"marker\":{\"colorbar\":{\"outlinewidth\":0,\"ticks\":\"\"}}}],\"bar\":[{\"error_x\":{\"color\":\"#2a3f5f\"},\"error_y\":{\"color\":\"#2a3f5f\"},\"marker\":{\"line\":{\"color\":\"#E5ECF6\",\"width\":0.5},\"pattern\":{\"fillmode\":\"overlay\",\"size\":10,\"solidity\":0.2}},\"type\":\"bar\"}],\"scattergeo\":[{\"type\":\"scattergeo\",\"marker\":{\"colorbar\":{\"outlinewidth\":0,\"ticks\":\"\"}}}],\"scatterpolar\":[{\"type\":\"scatterpolar\",\"marker\":{\"colorbar\":{\"outlinewidth\":0,\"ticks\":\"\"}}}],\"histogram\":[{\"marker\":{\"pattern\":{\"fillmode\":\"overlay\",\"size\":10,\"solidity\":0.2}},\"type\":\"histogram\"}],\"scattergl\":[{\"type\":\"scattergl\",\"marker\":{\"colorbar\":{\"outlinewidth\":0,\"ticks\":\"\"}}}],\"scatter3d\":[{\"type\":\"scatter3d\",\"line\":{\"colorbar\":{\"outlinewidth\":0,\"ticks\":\"\"}},\"marker\":{\"colorbar\":{\"outlinewidth\":0,\"ticks\":\"\"}}}],\"scattermapbox\":[{\"type\":\"scattermapbox\",\"marker\":{\"colorbar\":{\"outlinewidth\":0,\"ticks\":\"\"}}}],\"scatterternary\":[{\"type\":\"scatterternary\",\"marker\":{\"colorbar\":{\"outlinewidth\":0,\"ticks\":\"\"}}}],\"scattercarpet\":[{\"type\":\"scattercarpet\",\"marker\":{\"colorbar\":{\"outlinewidth\":0,\"ticks\":\"\"}}}],\"carpet\":[{\"aaxis\":{\"endlinecolor\":\"#2a3f5f\",\"gridcolor\":\"white\",\"linecolor\":\"white\",\"minorgridcolor\":\"white\",\"startlinecolor\":\"#2a3f5f\"},\"baxis\":{\"endlinecolor\":\"#2a3f5f\",\"gridcolor\":\"white\",\"linecolor\":\"white\",\"minorgridcolor\":\"white\",\"startlinecolor\":\"#2a3f5f\"},\"type\":\"carpet\"}],\"table\":[{\"cells\":{\"fill\":{\"color\":\"#EBF0F8\"},\"line\":{\"color\":\"white\"}},\"header\":{\"fill\":{\"color\":\"#C8D4E3\"},\"line\":{\"color\":\"white\"}},\"type\":\"table\"}],\"barpolar\":[{\"marker\":{\"line\":{\"color\":\"#E5ECF6\",\"width\":0.5},\"pattern\":{\"fillmode\":\"overlay\",\"size\":10,\"solidity\":0.2}},\"type\":\"barpolar\"}],\"pie\":[{\"automargin\":true,\"type\":\"pie\"}]},\"layout\":{\"autotypenumbers\":\"strict\",\"colorway\":[\"#636efa\",\"#EF553B\",\"#00cc96\",\"#ab63fa\",\"#FFA15A\",\"#19d3f3\",\"#FF6692\",\"#B6E880\",\"#FF97FF\",\"#FECB52\"],\"font\":{\"color\":\"#2a3f5f\"},\"hovermode\":\"closest\",\"hoverlabel\":{\"align\":\"left\"},\"paper_bgcolor\":\"white\",\"plot_bgcolor\":\"#E5ECF6\",\"polar\":{\"bgcolor\":\"#E5ECF6\",\"angularaxis\":{\"gridcolor\":\"white\",\"linecolor\":\"white\",\"ticks\":\"\"},\"radialaxis\":{\"gridcolor\":\"white\",\"linecolor\":\"white\",\"ticks\":\"\"}},\"ternary\":{\"bgcolor\":\"#E5ECF6\",\"aaxis\":{\"gridcolor\":\"white\",\"linecolor\":\"white\",\"ticks\":\"\"},\"baxis\":{\"gridcolor\":\"white\",\"linecolor\":\"white\",\"ticks\":\"\"},\"caxis\":{\"gridcolor\":\"white\",\"linecolor\":\"white\",\"ticks\":\"\"}},\"coloraxis\":{\"colorbar\":{\"outlinewidth\":0,\"ticks\":\"\"}},\"colorscale\":{\"sequential\":[[0.0,\"#0d0887\"],[0.1111111111111111,\"#46039f\"],[0.2222222222222222,\"#7201a8\"],[0.3333333333333333,\"#9c179e\"],[0.4444444444444444,\"#bd3786\"],[0.5555555555555556,\"#d8576b\"],[0.6666666666666666,\"#ed7953\"],[0.7777777777777778,\"#fb9f3a\"],[0.8888888888888888,\"#fdca26\"],[1.0,\"#f0f921\"]],\"sequentialminus\":[[0.0,\"#0d0887\"],[0.1111111111111111,\"#46039f\"],[0.2222222222222222,\"#7201a8\"],[0.3333333333333333,\"#9c179e\"],[0.4444444444444444,\"#bd3786\"],[0.5555555555555556,\"#d8576b\"],[0.6666666666666666,\"#ed7953\"],[0.7777777777777778,\"#fb9f3a\"],[0.8888888888888888,\"#fdca26\"],[1.0,\"#f0f921\"]],\"diverging\":[[0,\"#8e0152\"],[0.1,\"#c51b7d\"],[0.2,\"#de77ae\"],[0.3,\"#f1b6da\"],[0.4,\"#fde0ef\"],[0.5,\"#f7f7f7\"],[0.6,\"#e6f5d0\"],[0.7,\"#b8e186\"],[0.8,\"#7fbc41\"],[0.9,\"#4d9221\"],[1,\"#276419\"]]},\"xaxis\":{\"gridcolor\":\"white\",\"linecolor\":\"white\",\"ticks\":\"\",\"title\":{\"standoff\":15},\"zerolinecolor\":\"white\",\"automargin\":true,\"zerolinewidth\":2},\"yaxis\":{\"gridcolor\":\"white\",\"linecolor\":\"white\",\"ticks\":\"\",\"title\":{\"standoff\":15},\"zerolinecolor\":\"white\",\"automargin\":true,\"zerolinewidth\":2},\"scene\":{\"xaxis\":{\"backgroundcolor\":\"#E5ECF6\",\"gridcolor\":\"white\",\"linecolor\":\"white\",\"showbackground\":true,\"ticks\":\"\",\"zerolinecolor\":\"white\",\"gridwidth\":2},\"yaxis\":{\"backgroundcolor\":\"#E5ECF6\",\"gridcolor\":\"white\",\"linecolor\":\"white\",\"showbackground\":true,\"ticks\":\"\",\"zerolinecolor\":\"white\",\"gridwidth\":2},\"zaxis\":{\"backgroundcolor\":\"#E5ECF6\",\"gridcolor\":\"white\",\"linecolor\":\"white\",\"showbackground\":true,\"ticks\":\"\",\"zerolinecolor\":\"white\",\"gridwidth\":2}},\"shapedefaults\":{\"line\":{\"color\":\"#2a3f5f\"}},\"annotationdefaults\":{\"arrowcolor\":\"#2a3f5f\",\"arrowhead\":0,\"arrowwidth\":1},\"geo\":{\"bgcolor\":\"white\",\"landcolor\":\"#E5ECF6\",\"subunitcolor\":\"white\",\"showland\":true,\"showlakes\":true,\"lakecolor\":\"white\"},\"title\":{\"x\":0.05},\"mapbox\":{\"style\":\"light\"}}},\"xaxis\":{\"anchor\":\"y\",\"domain\":[0.0,1.0],\"title\":{\"text\":\"slide_name\"}},\"yaxis\":{\"anchor\":\"x\",\"domain\":[0.0,1.0],\"title\":{\"text\":\"best_row_slope\"}},\"legend\":{\"title\":{\"text\":\"scan_status\"},\"tracegroupgap\":0},\"margin\":{\"t\":60},\"height\":700},                        {\"responsive\": true}                    ).then(function(){\n",
       "                            \n",
       "var gd = document.getElementById('e77b776f-30d6-40e1-bb8e-67b1a43eca3b');\n",
       "var x = new MutationObserver(function (mutations, observer) {{\n",
       "        var display = window.getComputedStyle(gd).display;\n",
       "        if (!display || display === 'none') {{\n",
       "            console.log([gd, 'removed!']);\n",
       "            Plotly.purge(gd);\n",
       "            observer.disconnect();\n",
       "        }}\n",
       "}});\n",
       "\n",
       "// Listen for the removal of the full notebook cells\n",
       "var notebookContainer = gd.closest('#notebook-container');\n",
       "if (notebookContainer) {{\n",
       "    x.observe(notebookContainer, {childList: true});\n",
       "}}\n",
       "\n",
       "// Listen for the clearing of the current output cell\n",
       "var outputEl = gd.closest('.output');\n",
       "if (outputEl) {{\n",
       "    x.observe(outputEl, {childList: true});\n",
       "}}\n",
       "\n",
       "                        })                };                });            </script>        </div>"
      ]
     },
     "metadata": {},
     "output_type": "display_data"
    }
   ],
   "source": [
    "df = pd.DataFrame(columns = ['slide_name', 'best_row_slope', 'scan_status'])\n",
    "for filename in sorted(glob.glob(\"/home/adminspin/Desktop/Planarity/*/*.db\",recursive=True)):\n",
    "    file = filename\n",
    "    lst = []\n",
    "#     file = '/home/adminspin/Desktop/Planarity/example_planarity/JR-20-1000-A4-22/JR-20-1000-A4-22_H01JBA21P-37065/JR-20-1000-A4-22_H01JBA21P-37065.db'\n",
    "    name = file.split('/')[-1].split('.')[0]\n",
    "    lst.append(name)\n",
    "    conn = sqlite3.connect(file)\n",
    "    c = conn.cursor()\n",
    "    query = \"select aoi_name, x_pos, y_pos, row_index, column_index, best_z, z_difference, stack_size, best_index, focus_metric from focus_sampling_info where grid_id = 1\"\n",
    "    c.execute(query)\n",
    "    aoi_info = c.fetchall()\n",
    "    acc = pd.DataFrame(aoi_info)\n",
    "    acc.rename(columns = {0:'aoi_name',1:'x_pos',2:'y_pos',3:'row_index',4:'column_index',5:'best_z',6:'z_difference',\n",
    "                        7:'stack_size',8:'best_index',9:'focus_metric'}, inplace = True)\n",
    "    acc\n",
    "    acc = acc[acc['best_z'] > 0]\n",
    "    acc\n",
    "    x = acc['x_pos'].tolist()\n",
    "    y = acc['y_pos'].tolist()\n",
    "    z = acc['best_z'].tolist()\n",
    "    slope = plane_fitting_max_point(x,y,z).tolist()[0][0]\n",
    "    lst.append(slope)\n",
    "\n",
    "    query1 = \"select * from acquisition_blob_info\"\n",
    "    c.execute(query1)\n",
    "    aoi_info1 = c.fetchall()\n",
    "    test = pd.DataFrame(aoi_info1)\n",
    "    if len(test)>1:\n",
    "        lst += ['scanned']\n",
    "    else:\n",
    "        lst += ['rejected']\n",
    "\n",
    "    df.loc[len(df)] = lst\n",
    "df\n",
    "\n",
    "fig = px.scatter(df, x = df['slide_name'], y = df['best_row_slope'], color = df['scan_status'], height = 700)\n",
    "fig.show()"
   ]
  },
  {
   "cell_type": "code",
   "execution_count": 6,
   "id": "ebf38e81",
   "metadata": {
    "scrolled": false
   },
   "outputs": [
    {
     "data": {
      "application/vnd.plotly.v1+json": {
       "config": {
        "plotlyServerURL": "https://plot.ly"
       },
       "data": [
        {
         "hovertemplate": "scan_status=scanned<br>slide_name=%{x}<br>best_row_slope=%{y}<extra></extra>",
         "legendgroup": "scanned",
         "marker": {
          "color": "#636efa",
          "symbol": "circle"
         },
         "mode": "markers",
         "name": "scanned",
         "orientation": "v",
         "showlegend": true,
         "type": "scatter",
         "x": [
          "JR-20-616-F6-2_H01BBB22P-15168",
          "JR-20-616-F7-2_H01BBB22P-15167",
          "JR-20-616-G1-1_H01BBB22P-15165",
          "JR-20-618-C1-2_H01BBB22P-15158",
          "JR-20-618-C14-1_H01BBB22P-15145",
          "JR-20-618-C18-2_H01BBB22P-15140",
          "JR-20-618-C18-3_H01BBB22P-15139",
          "JR-20-618-C20-1_H01BBB22P-15134",
          "JR-20-618-C21-1_H01BBB22P-15136",
          "JR-20-618-C22-1_H01BBB22P-15135",
          "JR-20-618-C23-1_H01BBB22P-15133",
          "JR-20-618-C24-1_H01BBB22P-15132",
          "JR-20-618-C25-1_H01BBB22P-15131",
          "JR-20-618-C26-1_H01BBB22P-15130",
          "JR-20-618-C27-1_H01BBB22P-15129",
          "JR-20-618-C28-1_H01BBB22P-15128",
          "JR-20-618-C29-1_H01BBB22P-15127",
          "JR-20-618-C3-2_H01BBB22P-15156",
          "JR-20-618-D1-2_H01BBB22P-15126",
          "JR-20-618-D1-3_H01BBB22P-15125",
          "JR-20-618-D1-4_H01BBB22P-15124",
          "JR-20-618-E1-5_H01BBB20P-15285",
          "JR-20-618-G3-2_H01BBB20P-15278",
          "JR-20-619-B1-4_H01BBB20P-15268",
          "JR-20-619-D1-2_H01BBB20P-15265",
          "JR-20-619-D1-3_H01BBB20P-15264",
          "JR-20-619-D1-4_H01BBB20P-15263",
          "JR-20-619-E1-2_H01BBB20P-15262",
          "JR-20-619-F1-2_H01BBB20P-15261",
          "JR-20-619-F1-3_H01BBB20P-15260",
          "JR-20-619-F1-4_H01BBB20P-15259",
          "JR-20-619-F1-5_H01BBB20P-15258",
          "JR-20-620-A3-1_H01BBB20P-15255",
          "JR-20-620-A4-1_H01BBB20P-15254",
          "JR-20-620-A4-4_H01BBB20P-15253",
          "JR-20-620-A5-1_H01BBB20P-15250",
          "JR-20-620-A6-1_H01BBB20P-15249",
          "JR-20-620-A7-1_H01BBB20P-15248",
          "JR-20-621-A1-1_H01BBB20P-15246",
          "JR-20-621-B1-1_H01BBB20P-15244",
          "JR-20-1000-A4-22_H01JBA21P-37065",
          "JR-20-1007-A4-14_H01JBA21P-37059"
         ],
         "xaxis": "x",
         "y": [
          4.884402474818075e-05,
          0.0006454388984511971,
          0.0006454388984511971,
          0.0006024096385542169,
          0.00030120481927710846,
          0.0018072289156626507,
          0.004153859253267534,
          0.00030120481927740065,
          0.0009036144578313253,
          0.00045180722891566266,
          0.0010843373493975904,
          0.0004283801874167216,
          0.00028460297884512996,
          null,
          0.000774526678141136,
          0.00031502155410671696,
          0.00010639962447191759,
          0.0002582180574149831,
          0.0009036144578316175,
          0.0006707136886717517,
          0.0010455890493341216,
          0.0009036144578304486,
          0.0012545595224938645,
          0.000903614457830887,
          6.819731757205336e-05,
          0.000479468895992105,
          0.000903614457830887,
          0.0007228915662650603,
          0.001151976326358342,
          0.00014247102478351237,
          0.00010997837503870392,
          0.0006684646620842942,
          0.00150602409638525,
          0.0019248592001140533,
          0.001204819277108239,
          0.0013554216867472072,
          0.0005549758087465604,
          0.0002703728299022396,
          0.0003804692454027371,
          0.0006024096385542169,
          0.004922547332185845,
          0.004154216867469271
         ],
         "yaxis": "y"
        },
        {
         "hovertemplate": "scan_status=rejected<br>slide_name=%{x}<br>best_row_slope=%{y}<extra></extra>",
         "legendgroup": "rejected",
         "marker": {
          "color": "#EF553B",
          "symbol": "circle"
         },
         "mode": "markers",
         "name": "rejected",
         "orientation": "v",
         "showlegend": true,
         "type": "scatter",
         "x": [
          "JR-20-1000-A4-13_H01BBB20P-18974",
          "JR-20-1000-A4-13_H01JBA21P-37063",
          "JR-20-1000-A4-14_H01BBB20P-18972",
          "JR-20-1000-A4-14_H01JBA21P-37064",
          "JR-20-1000-A4-22_H01BBB20P-18964",
          "JR-20-1007-A4-14_H01BBB18P-19110"
         ],
         "xaxis": "x",
         "y": [
          0.009638554216865132,
          0.009638554216866302,
          0.009638554216866302,
          0.00963855421686747,
          0.009638554216868638,
          0.00963855421686747
         ],
         "yaxis": "y"
        }
       ],
       "layout": {
        "legend": {
         "title": {
          "text": "scan_status"
         },
         "tracegroupgap": 0
        },
        "margin": {
         "t": 60
        },
        "template": {
         "data": {
          "bar": [
           {
            "error_x": {
             "color": "#2a3f5f"
            },
            "error_y": {
             "color": "#2a3f5f"
            },
            "marker": {
             "line": {
              "color": "#E5ECF6",
              "width": 0.5
             },
             "pattern": {
              "fillmode": "overlay",
              "size": 10,
              "solidity": 0.2
             }
            },
            "type": "bar"
           }
          ],
          "barpolar": [
           {
            "marker": {
             "line": {
              "color": "#E5ECF6",
              "width": 0.5
             },
             "pattern": {
              "fillmode": "overlay",
              "size": 10,
              "solidity": 0.2
             }
            },
            "type": "barpolar"
           }
          ],
          "carpet": [
           {
            "aaxis": {
             "endlinecolor": "#2a3f5f",
             "gridcolor": "white",
             "linecolor": "white",
             "minorgridcolor": "white",
             "startlinecolor": "#2a3f5f"
            },
            "baxis": {
             "endlinecolor": "#2a3f5f",
             "gridcolor": "white",
             "linecolor": "white",
             "minorgridcolor": "white",
             "startlinecolor": "#2a3f5f"
            },
            "type": "carpet"
           }
          ],
          "choropleth": [
           {
            "colorbar": {
             "outlinewidth": 0,
             "ticks": ""
            },
            "type": "choropleth"
           }
          ],
          "contour": [
           {
            "colorbar": {
             "outlinewidth": 0,
             "ticks": ""
            },
            "colorscale": [
             [
              0,
              "#0d0887"
             ],
             [
              0.1111111111111111,
              "#46039f"
             ],
             [
              0.2222222222222222,
              "#7201a8"
             ],
             [
              0.3333333333333333,
              "#9c179e"
             ],
             [
              0.4444444444444444,
              "#bd3786"
             ],
             [
              0.5555555555555556,
              "#d8576b"
             ],
             [
              0.6666666666666666,
              "#ed7953"
             ],
             [
              0.7777777777777778,
              "#fb9f3a"
             ],
             [
              0.8888888888888888,
              "#fdca26"
             ],
             [
              1,
              "#f0f921"
             ]
            ],
            "type": "contour"
           }
          ],
          "contourcarpet": [
           {
            "colorbar": {
             "outlinewidth": 0,
             "ticks": ""
            },
            "type": "contourcarpet"
           }
          ],
          "heatmap": [
           {
            "colorbar": {
             "outlinewidth": 0,
             "ticks": ""
            },
            "colorscale": [
             [
              0,
              "#0d0887"
             ],
             [
              0.1111111111111111,
              "#46039f"
             ],
             [
              0.2222222222222222,
              "#7201a8"
             ],
             [
              0.3333333333333333,
              "#9c179e"
             ],
             [
              0.4444444444444444,
              "#bd3786"
             ],
             [
              0.5555555555555556,
              "#d8576b"
             ],
             [
              0.6666666666666666,
              "#ed7953"
             ],
             [
              0.7777777777777778,
              "#fb9f3a"
             ],
             [
              0.8888888888888888,
              "#fdca26"
             ],
             [
              1,
              "#f0f921"
             ]
            ],
            "type": "heatmap"
           }
          ],
          "heatmapgl": [
           {
            "colorbar": {
             "outlinewidth": 0,
             "ticks": ""
            },
            "colorscale": [
             [
              0,
              "#0d0887"
             ],
             [
              0.1111111111111111,
              "#46039f"
             ],
             [
              0.2222222222222222,
              "#7201a8"
             ],
             [
              0.3333333333333333,
              "#9c179e"
             ],
             [
              0.4444444444444444,
              "#bd3786"
             ],
             [
              0.5555555555555556,
              "#d8576b"
             ],
             [
              0.6666666666666666,
              "#ed7953"
             ],
             [
              0.7777777777777778,
              "#fb9f3a"
             ],
             [
              0.8888888888888888,
              "#fdca26"
             ],
             [
              1,
              "#f0f921"
             ]
            ],
            "type": "heatmapgl"
           }
          ],
          "histogram": [
           {
            "marker": {
             "pattern": {
              "fillmode": "overlay",
              "size": 10,
              "solidity": 0.2
             }
            },
            "type": "histogram"
           }
          ],
          "histogram2d": [
           {
            "colorbar": {
             "outlinewidth": 0,
             "ticks": ""
            },
            "colorscale": [
             [
              0,
              "#0d0887"
             ],
             [
              0.1111111111111111,
              "#46039f"
             ],
             [
              0.2222222222222222,
              "#7201a8"
             ],
             [
              0.3333333333333333,
              "#9c179e"
             ],
             [
              0.4444444444444444,
              "#bd3786"
             ],
             [
              0.5555555555555556,
              "#d8576b"
             ],
             [
              0.6666666666666666,
              "#ed7953"
             ],
             [
              0.7777777777777778,
              "#fb9f3a"
             ],
             [
              0.8888888888888888,
              "#fdca26"
             ],
             [
              1,
              "#f0f921"
             ]
            ],
            "type": "histogram2d"
           }
          ],
          "histogram2dcontour": [
           {
            "colorbar": {
             "outlinewidth": 0,
             "ticks": ""
            },
            "colorscale": [
             [
              0,
              "#0d0887"
             ],
             [
              0.1111111111111111,
              "#46039f"
             ],
             [
              0.2222222222222222,
              "#7201a8"
             ],
             [
              0.3333333333333333,
              "#9c179e"
             ],
             [
              0.4444444444444444,
              "#bd3786"
             ],
             [
              0.5555555555555556,
              "#d8576b"
             ],
             [
              0.6666666666666666,
              "#ed7953"
             ],
             [
              0.7777777777777778,
              "#fb9f3a"
             ],
             [
              0.8888888888888888,
              "#fdca26"
             ],
             [
              1,
              "#f0f921"
             ]
            ],
            "type": "histogram2dcontour"
           }
          ],
          "mesh3d": [
           {
            "colorbar": {
             "outlinewidth": 0,
             "ticks": ""
            },
            "type": "mesh3d"
           }
          ],
          "parcoords": [
           {
            "line": {
             "colorbar": {
              "outlinewidth": 0,
              "ticks": ""
             }
            },
            "type": "parcoords"
           }
          ],
          "pie": [
           {
            "automargin": true,
            "type": "pie"
           }
          ],
          "scatter": [
           {
            "fillpattern": {
             "fillmode": "overlay",
             "size": 10,
             "solidity": 0.2
            },
            "type": "scatter"
           }
          ],
          "scatter3d": [
           {
            "line": {
             "colorbar": {
              "outlinewidth": 0,
              "ticks": ""
             }
            },
            "marker": {
             "colorbar": {
              "outlinewidth": 0,
              "ticks": ""
             }
            },
            "type": "scatter3d"
           }
          ],
          "scattercarpet": [
           {
            "marker": {
             "colorbar": {
              "outlinewidth": 0,
              "ticks": ""
             }
            },
            "type": "scattercarpet"
           }
          ],
          "scattergeo": [
           {
            "marker": {
             "colorbar": {
              "outlinewidth": 0,
              "ticks": ""
             }
            },
            "type": "scattergeo"
           }
          ],
          "scattergl": [
           {
            "marker": {
             "colorbar": {
              "outlinewidth": 0,
              "ticks": ""
             }
            },
            "type": "scattergl"
           }
          ],
          "scattermapbox": [
           {
            "marker": {
             "colorbar": {
              "outlinewidth": 0,
              "ticks": ""
             }
            },
            "type": "scattermapbox"
           }
          ],
          "scatterpolar": [
           {
            "marker": {
             "colorbar": {
              "outlinewidth": 0,
              "ticks": ""
             }
            },
            "type": "scatterpolar"
           }
          ],
          "scatterpolargl": [
           {
            "marker": {
             "colorbar": {
              "outlinewidth": 0,
              "ticks": ""
             }
            },
            "type": "scatterpolargl"
           }
          ],
          "scatterternary": [
           {
            "marker": {
             "colorbar": {
              "outlinewidth": 0,
              "ticks": ""
             }
            },
            "type": "scatterternary"
           }
          ],
          "surface": [
           {
            "colorbar": {
             "outlinewidth": 0,
             "ticks": ""
            },
            "colorscale": [
             [
              0,
              "#0d0887"
             ],
             [
              0.1111111111111111,
              "#46039f"
             ],
             [
              0.2222222222222222,
              "#7201a8"
             ],
             [
              0.3333333333333333,
              "#9c179e"
             ],
             [
              0.4444444444444444,
              "#bd3786"
             ],
             [
              0.5555555555555556,
              "#d8576b"
             ],
             [
              0.6666666666666666,
              "#ed7953"
             ],
             [
              0.7777777777777778,
              "#fb9f3a"
             ],
             [
              0.8888888888888888,
              "#fdca26"
             ],
             [
              1,
              "#f0f921"
             ]
            ],
            "type": "surface"
           }
          ],
          "table": [
           {
            "cells": {
             "fill": {
              "color": "#EBF0F8"
             },
             "line": {
              "color": "white"
             }
            },
            "header": {
             "fill": {
              "color": "#C8D4E3"
             },
             "line": {
              "color": "white"
             }
            },
            "type": "table"
           }
          ]
         },
         "layout": {
          "annotationdefaults": {
           "arrowcolor": "#2a3f5f",
           "arrowhead": 0,
           "arrowwidth": 1
          },
          "autotypenumbers": "strict",
          "coloraxis": {
           "colorbar": {
            "outlinewidth": 0,
            "ticks": ""
           }
          },
          "colorscale": {
           "diverging": [
            [
             0,
             "#8e0152"
            ],
            [
             0.1,
             "#c51b7d"
            ],
            [
             0.2,
             "#de77ae"
            ],
            [
             0.3,
             "#f1b6da"
            ],
            [
             0.4,
             "#fde0ef"
            ],
            [
             0.5,
             "#f7f7f7"
            ],
            [
             0.6,
             "#e6f5d0"
            ],
            [
             0.7,
             "#b8e186"
            ],
            [
             0.8,
             "#7fbc41"
            ],
            [
             0.9,
             "#4d9221"
            ],
            [
             1,
             "#276419"
            ]
           ],
           "sequential": [
            [
             0,
             "#0d0887"
            ],
            [
             0.1111111111111111,
             "#46039f"
            ],
            [
             0.2222222222222222,
             "#7201a8"
            ],
            [
             0.3333333333333333,
             "#9c179e"
            ],
            [
             0.4444444444444444,
             "#bd3786"
            ],
            [
             0.5555555555555556,
             "#d8576b"
            ],
            [
             0.6666666666666666,
             "#ed7953"
            ],
            [
             0.7777777777777778,
             "#fb9f3a"
            ],
            [
             0.8888888888888888,
             "#fdca26"
            ],
            [
             1,
             "#f0f921"
            ]
           ],
           "sequentialminus": [
            [
             0,
             "#0d0887"
            ],
            [
             0.1111111111111111,
             "#46039f"
            ],
            [
             0.2222222222222222,
             "#7201a8"
            ],
            [
             0.3333333333333333,
             "#9c179e"
            ],
            [
             0.4444444444444444,
             "#bd3786"
            ],
            [
             0.5555555555555556,
             "#d8576b"
            ],
            [
             0.6666666666666666,
             "#ed7953"
            ],
            [
             0.7777777777777778,
             "#fb9f3a"
            ],
            [
             0.8888888888888888,
             "#fdca26"
            ],
            [
             1,
             "#f0f921"
            ]
           ]
          },
          "colorway": [
           "#636efa",
           "#EF553B",
           "#00cc96",
           "#ab63fa",
           "#FFA15A",
           "#19d3f3",
           "#FF6692",
           "#B6E880",
           "#FF97FF",
           "#FECB52"
          ],
          "font": {
           "color": "#2a3f5f"
          },
          "geo": {
           "bgcolor": "white",
           "lakecolor": "white",
           "landcolor": "#E5ECF6",
           "showlakes": true,
           "showland": true,
           "subunitcolor": "white"
          },
          "hoverlabel": {
           "align": "left"
          },
          "hovermode": "closest",
          "mapbox": {
           "style": "light"
          },
          "paper_bgcolor": "white",
          "plot_bgcolor": "#E5ECF6",
          "polar": {
           "angularaxis": {
            "gridcolor": "white",
            "linecolor": "white",
            "ticks": ""
           },
           "bgcolor": "#E5ECF6",
           "radialaxis": {
            "gridcolor": "white",
            "linecolor": "white",
            "ticks": ""
           }
          },
          "scene": {
           "xaxis": {
            "backgroundcolor": "#E5ECF6",
            "gridcolor": "white",
            "gridwidth": 2,
            "linecolor": "white",
            "showbackground": true,
            "ticks": "",
            "zerolinecolor": "white"
           },
           "yaxis": {
            "backgroundcolor": "#E5ECF6",
            "gridcolor": "white",
            "gridwidth": 2,
            "linecolor": "white",
            "showbackground": true,
            "ticks": "",
            "zerolinecolor": "white"
           },
           "zaxis": {
            "backgroundcolor": "#E5ECF6",
            "gridcolor": "white",
            "gridwidth": 2,
            "linecolor": "white",
            "showbackground": true,
            "ticks": "",
            "zerolinecolor": "white"
           }
          },
          "shapedefaults": {
           "line": {
            "color": "#2a3f5f"
           }
          },
          "ternary": {
           "aaxis": {
            "gridcolor": "white",
            "linecolor": "white",
            "ticks": ""
           },
           "baxis": {
            "gridcolor": "white",
            "linecolor": "white",
            "ticks": ""
           },
           "bgcolor": "#E5ECF6",
           "caxis": {
            "gridcolor": "white",
            "linecolor": "white",
            "ticks": ""
           }
          },
          "title": {
           "x": 0.05
          },
          "xaxis": {
           "automargin": true,
           "gridcolor": "white",
           "linecolor": "white",
           "ticks": "",
           "title": {
            "standoff": 15
           },
           "zerolinecolor": "white",
           "zerolinewidth": 2
          },
          "yaxis": {
           "automargin": true,
           "gridcolor": "white",
           "linecolor": "white",
           "ticks": "",
           "title": {
            "standoff": 15
           },
           "zerolinecolor": "white",
           "zerolinewidth": 2
          }
         }
        },
        "xaxis": {
         "anchor": "y",
         "domain": [
          0,
          1
         ],
         "title": {
          "text": "slide_name"
         }
        },
        "yaxis": {
         "anchor": "x",
         "domain": [
          0,
          1
         ],
         "title": {
          "text": "best_row_slope"
         }
        }
       }
      },
      "text/html": [
       "<div>                            <div id=\"62797247-5794-4f91-bc56-ba7115f7c839\" class=\"plotly-graph-div\" style=\"height:525px; width:100%;\"></div>            <script type=\"text/javascript\">                require([\"plotly\"], function(Plotly) {                    window.PLOTLYENV=window.PLOTLYENV || {};                                    if (document.getElementById(\"62797247-5794-4f91-bc56-ba7115f7c839\")) {                    Plotly.newPlot(                        \"62797247-5794-4f91-bc56-ba7115f7c839\",                        [{\"hovertemplate\":\"scan_status=scanned<br>slide_name=%{x}<br>best_row_slope=%{y}<extra></extra>\",\"legendgroup\":\"scanned\",\"marker\":{\"color\":\"#636efa\",\"symbol\":\"circle\"},\"mode\":\"markers\",\"name\":\"scanned\",\"orientation\":\"v\",\"showlegend\":true,\"x\":[\"JR-20-616-F6-2_H01BBB22P-15168\",\"JR-20-616-F7-2_H01BBB22P-15167\",\"JR-20-616-G1-1_H01BBB22P-15165\",\"JR-20-618-C1-2_H01BBB22P-15158\",\"JR-20-618-C14-1_H01BBB22P-15145\",\"JR-20-618-C18-2_H01BBB22P-15140\",\"JR-20-618-C18-3_H01BBB22P-15139\",\"JR-20-618-C20-1_H01BBB22P-15134\",\"JR-20-618-C21-1_H01BBB22P-15136\",\"JR-20-618-C22-1_H01BBB22P-15135\",\"JR-20-618-C23-1_H01BBB22P-15133\",\"JR-20-618-C24-1_H01BBB22P-15132\",\"JR-20-618-C25-1_H01BBB22P-15131\",\"JR-20-618-C26-1_H01BBB22P-15130\",\"JR-20-618-C27-1_H01BBB22P-15129\",\"JR-20-618-C28-1_H01BBB22P-15128\",\"JR-20-618-C29-1_H01BBB22P-15127\",\"JR-20-618-C3-2_H01BBB22P-15156\",\"JR-20-618-D1-2_H01BBB22P-15126\",\"JR-20-618-D1-3_H01BBB22P-15125\",\"JR-20-618-D1-4_H01BBB22P-15124\",\"JR-20-618-E1-5_H01BBB20P-15285\",\"JR-20-618-G3-2_H01BBB20P-15278\",\"JR-20-619-B1-4_H01BBB20P-15268\",\"JR-20-619-D1-2_H01BBB20P-15265\",\"JR-20-619-D1-3_H01BBB20P-15264\",\"JR-20-619-D1-4_H01BBB20P-15263\",\"JR-20-619-E1-2_H01BBB20P-15262\",\"JR-20-619-F1-2_H01BBB20P-15261\",\"JR-20-619-F1-3_H01BBB20P-15260\",\"JR-20-619-F1-4_H01BBB20P-15259\",\"JR-20-619-F1-5_H01BBB20P-15258\",\"JR-20-620-A3-1_H01BBB20P-15255\",\"JR-20-620-A4-1_H01BBB20P-15254\",\"JR-20-620-A4-4_H01BBB20P-15253\",\"JR-20-620-A5-1_H01BBB20P-15250\",\"JR-20-620-A6-1_H01BBB20P-15249\",\"JR-20-620-A7-1_H01BBB20P-15248\",\"JR-20-621-A1-1_H01BBB20P-15246\",\"JR-20-621-B1-1_H01BBB20P-15244\",\"JR-20-1000-A4-22_H01JBA21P-37065\",\"JR-20-1007-A4-14_H01JBA21P-37059\"],\"xaxis\":\"x\",\"y\":[4.884402474818075e-05,0.0006454388984511971,0.0006454388984511971,0.0006024096385542169,0.00030120481927710846,0.0018072289156626507,0.004153859253267534,0.00030120481927740065,0.0009036144578313253,0.00045180722891566266,0.0010843373493975904,0.0004283801874167216,0.00028460297884512996,null,0.000774526678141136,0.00031502155410671696,0.00010639962447191759,0.0002582180574149831,0.0009036144578316175,0.0006707136886717517,0.0010455890493341216,0.0009036144578304486,0.0012545595224938645,0.000903614457830887,6.819731757205336e-05,0.000479468895992105,0.000903614457830887,0.0007228915662650603,0.001151976326358342,0.00014247102478351237,0.00010997837503870392,0.0006684646620842942,0.00150602409638525,0.0019248592001140533,0.001204819277108239,0.0013554216867472072,0.0005549758087465604,0.0002703728299022396,0.0003804692454027371,0.0006024096385542169,0.004922547332185845,0.004154216867469271],\"yaxis\":\"y\",\"type\":\"scatter\"},{\"hovertemplate\":\"scan_status=rejected<br>slide_name=%{x}<br>best_row_slope=%{y}<extra></extra>\",\"legendgroup\":\"rejected\",\"marker\":{\"color\":\"#EF553B\",\"symbol\":\"circle\"},\"mode\":\"markers\",\"name\":\"rejected\",\"orientation\":\"v\",\"showlegend\":true,\"x\":[\"JR-20-1000-A4-13_H01BBB20P-18974\",\"JR-20-1000-A4-13_H01JBA21P-37063\",\"JR-20-1000-A4-14_H01BBB20P-18972\",\"JR-20-1000-A4-14_H01JBA21P-37064\",\"JR-20-1000-A4-22_H01BBB20P-18964\",\"JR-20-1007-A4-14_H01BBB18P-19110\"],\"xaxis\":\"x\",\"y\":[0.009638554216865132,0.009638554216866302,0.009638554216866302,0.00963855421686747,0.009638554216868638,0.00963855421686747],\"yaxis\":\"y\",\"type\":\"scatter\"}],                        {\"template\":{\"data\":{\"histogram2dcontour\":[{\"type\":\"histogram2dcontour\",\"colorbar\":{\"outlinewidth\":0,\"ticks\":\"\"},\"colorscale\":[[0.0,\"#0d0887\"],[0.1111111111111111,\"#46039f\"],[0.2222222222222222,\"#7201a8\"],[0.3333333333333333,\"#9c179e\"],[0.4444444444444444,\"#bd3786\"],[0.5555555555555556,\"#d8576b\"],[0.6666666666666666,\"#ed7953\"],[0.7777777777777778,\"#fb9f3a\"],[0.8888888888888888,\"#fdca26\"],[1.0,\"#f0f921\"]]}],\"choropleth\":[{\"type\":\"choropleth\",\"colorbar\":{\"outlinewidth\":0,\"ticks\":\"\"}}],\"histogram2d\":[{\"type\":\"histogram2d\",\"colorbar\":{\"outlinewidth\":0,\"ticks\":\"\"},\"colorscale\":[[0.0,\"#0d0887\"],[0.1111111111111111,\"#46039f\"],[0.2222222222222222,\"#7201a8\"],[0.3333333333333333,\"#9c179e\"],[0.4444444444444444,\"#bd3786\"],[0.5555555555555556,\"#d8576b\"],[0.6666666666666666,\"#ed7953\"],[0.7777777777777778,\"#fb9f3a\"],[0.8888888888888888,\"#fdca26\"],[1.0,\"#f0f921\"]]}],\"heatmap\":[{\"type\":\"heatmap\",\"colorbar\":{\"outlinewidth\":0,\"ticks\":\"\"},\"colorscale\":[[0.0,\"#0d0887\"],[0.1111111111111111,\"#46039f\"],[0.2222222222222222,\"#7201a8\"],[0.3333333333333333,\"#9c179e\"],[0.4444444444444444,\"#bd3786\"],[0.5555555555555556,\"#d8576b\"],[0.6666666666666666,\"#ed7953\"],[0.7777777777777778,\"#fb9f3a\"],[0.8888888888888888,\"#fdca26\"],[1.0,\"#f0f921\"]]}],\"heatmapgl\":[{\"type\":\"heatmapgl\",\"colorbar\":{\"outlinewidth\":0,\"ticks\":\"\"},\"colorscale\":[[0.0,\"#0d0887\"],[0.1111111111111111,\"#46039f\"],[0.2222222222222222,\"#7201a8\"],[0.3333333333333333,\"#9c179e\"],[0.4444444444444444,\"#bd3786\"],[0.5555555555555556,\"#d8576b\"],[0.6666666666666666,\"#ed7953\"],[0.7777777777777778,\"#fb9f3a\"],[0.8888888888888888,\"#fdca26\"],[1.0,\"#f0f921\"]]}],\"contourcarpet\":[{\"type\":\"contourcarpet\",\"colorbar\":{\"outlinewidth\":0,\"ticks\":\"\"}}],\"contour\":[{\"type\":\"contour\",\"colorbar\":{\"outlinewidth\":0,\"ticks\":\"\"},\"colorscale\":[[0.0,\"#0d0887\"],[0.1111111111111111,\"#46039f\"],[0.2222222222222222,\"#7201a8\"],[0.3333333333333333,\"#9c179e\"],[0.4444444444444444,\"#bd3786\"],[0.5555555555555556,\"#d8576b\"],[0.6666666666666666,\"#ed7953\"],[0.7777777777777778,\"#fb9f3a\"],[0.8888888888888888,\"#fdca26\"],[1.0,\"#f0f921\"]]}],\"surface\":[{\"type\":\"surface\",\"colorbar\":{\"outlinewidth\":0,\"ticks\":\"\"},\"colorscale\":[[0.0,\"#0d0887\"],[0.1111111111111111,\"#46039f\"],[0.2222222222222222,\"#7201a8\"],[0.3333333333333333,\"#9c179e\"],[0.4444444444444444,\"#bd3786\"],[0.5555555555555556,\"#d8576b\"],[0.6666666666666666,\"#ed7953\"],[0.7777777777777778,\"#fb9f3a\"],[0.8888888888888888,\"#fdca26\"],[1.0,\"#f0f921\"]]}],\"mesh3d\":[{\"type\":\"mesh3d\",\"colorbar\":{\"outlinewidth\":0,\"ticks\":\"\"}}],\"scatter\":[{\"fillpattern\":{\"fillmode\":\"overlay\",\"size\":10,\"solidity\":0.2},\"type\":\"scatter\"}],\"parcoords\":[{\"type\":\"parcoords\",\"line\":{\"colorbar\":{\"outlinewidth\":0,\"ticks\":\"\"}}}],\"scatterpolargl\":[{\"type\":\"scatterpolargl\",\"marker\":{\"colorbar\":{\"outlinewidth\":0,\"ticks\":\"\"}}}],\"bar\":[{\"error_x\":{\"color\":\"#2a3f5f\"},\"error_y\":{\"color\":\"#2a3f5f\"},\"marker\":{\"line\":{\"color\":\"#E5ECF6\",\"width\":0.5},\"pattern\":{\"fillmode\":\"overlay\",\"size\":10,\"solidity\":0.2}},\"type\":\"bar\"}],\"scattergeo\":[{\"type\":\"scattergeo\",\"marker\":{\"colorbar\":{\"outlinewidth\":0,\"ticks\":\"\"}}}],\"scatterpolar\":[{\"type\":\"scatterpolar\",\"marker\":{\"colorbar\":{\"outlinewidth\":0,\"ticks\":\"\"}}}],\"histogram\":[{\"marker\":{\"pattern\":{\"fillmode\":\"overlay\",\"size\":10,\"solidity\":0.2}},\"type\":\"histogram\"}],\"scattergl\":[{\"type\":\"scattergl\",\"marker\":{\"colorbar\":{\"outlinewidth\":0,\"ticks\":\"\"}}}],\"scatter3d\":[{\"type\":\"scatter3d\",\"line\":{\"colorbar\":{\"outlinewidth\":0,\"ticks\":\"\"}},\"marker\":{\"colorbar\":{\"outlinewidth\":0,\"ticks\":\"\"}}}],\"scattermapbox\":[{\"type\":\"scattermapbox\",\"marker\":{\"colorbar\":{\"outlinewidth\":0,\"ticks\":\"\"}}}],\"scatterternary\":[{\"type\":\"scatterternary\",\"marker\":{\"colorbar\":{\"outlinewidth\":0,\"ticks\":\"\"}}}],\"scattercarpet\":[{\"type\":\"scattercarpet\",\"marker\":{\"colorbar\":{\"outlinewidth\":0,\"ticks\":\"\"}}}],\"carpet\":[{\"aaxis\":{\"endlinecolor\":\"#2a3f5f\",\"gridcolor\":\"white\",\"linecolor\":\"white\",\"minorgridcolor\":\"white\",\"startlinecolor\":\"#2a3f5f\"},\"baxis\":{\"endlinecolor\":\"#2a3f5f\",\"gridcolor\":\"white\",\"linecolor\":\"white\",\"minorgridcolor\":\"white\",\"startlinecolor\":\"#2a3f5f\"},\"type\":\"carpet\"}],\"table\":[{\"cells\":{\"fill\":{\"color\":\"#EBF0F8\"},\"line\":{\"color\":\"white\"}},\"header\":{\"fill\":{\"color\":\"#C8D4E3\"},\"line\":{\"color\":\"white\"}},\"type\":\"table\"}],\"barpolar\":[{\"marker\":{\"line\":{\"color\":\"#E5ECF6\",\"width\":0.5},\"pattern\":{\"fillmode\":\"overlay\",\"size\":10,\"solidity\":0.2}},\"type\":\"barpolar\"}],\"pie\":[{\"automargin\":true,\"type\":\"pie\"}]},\"layout\":{\"autotypenumbers\":\"strict\",\"colorway\":[\"#636efa\",\"#EF553B\",\"#00cc96\",\"#ab63fa\",\"#FFA15A\",\"#19d3f3\",\"#FF6692\",\"#B6E880\",\"#FF97FF\",\"#FECB52\"],\"font\":{\"color\":\"#2a3f5f\"},\"hovermode\":\"closest\",\"hoverlabel\":{\"align\":\"left\"},\"paper_bgcolor\":\"white\",\"plot_bgcolor\":\"#E5ECF6\",\"polar\":{\"bgcolor\":\"#E5ECF6\",\"angularaxis\":{\"gridcolor\":\"white\",\"linecolor\":\"white\",\"ticks\":\"\"},\"radialaxis\":{\"gridcolor\":\"white\",\"linecolor\":\"white\",\"ticks\":\"\"}},\"ternary\":{\"bgcolor\":\"#E5ECF6\",\"aaxis\":{\"gridcolor\":\"white\",\"linecolor\":\"white\",\"ticks\":\"\"},\"baxis\":{\"gridcolor\":\"white\",\"linecolor\":\"white\",\"ticks\":\"\"},\"caxis\":{\"gridcolor\":\"white\",\"linecolor\":\"white\",\"ticks\":\"\"}},\"coloraxis\":{\"colorbar\":{\"outlinewidth\":0,\"ticks\":\"\"}},\"colorscale\":{\"sequential\":[[0.0,\"#0d0887\"],[0.1111111111111111,\"#46039f\"],[0.2222222222222222,\"#7201a8\"],[0.3333333333333333,\"#9c179e\"],[0.4444444444444444,\"#bd3786\"],[0.5555555555555556,\"#d8576b\"],[0.6666666666666666,\"#ed7953\"],[0.7777777777777778,\"#fb9f3a\"],[0.8888888888888888,\"#fdca26\"],[1.0,\"#f0f921\"]],\"sequentialminus\":[[0.0,\"#0d0887\"],[0.1111111111111111,\"#46039f\"],[0.2222222222222222,\"#7201a8\"],[0.3333333333333333,\"#9c179e\"],[0.4444444444444444,\"#bd3786\"],[0.5555555555555556,\"#d8576b\"],[0.6666666666666666,\"#ed7953\"],[0.7777777777777778,\"#fb9f3a\"],[0.8888888888888888,\"#fdca26\"],[1.0,\"#f0f921\"]],\"diverging\":[[0,\"#8e0152\"],[0.1,\"#c51b7d\"],[0.2,\"#de77ae\"],[0.3,\"#f1b6da\"],[0.4,\"#fde0ef\"],[0.5,\"#f7f7f7\"],[0.6,\"#e6f5d0\"],[0.7,\"#b8e186\"],[0.8,\"#7fbc41\"],[0.9,\"#4d9221\"],[1,\"#276419\"]]},\"xaxis\":{\"gridcolor\":\"white\",\"linecolor\":\"white\",\"ticks\":\"\",\"title\":{\"standoff\":15},\"zerolinecolor\":\"white\",\"automargin\":true,\"zerolinewidth\":2},\"yaxis\":{\"gridcolor\":\"white\",\"linecolor\":\"white\",\"ticks\":\"\",\"title\":{\"standoff\":15},\"zerolinecolor\":\"white\",\"automargin\":true,\"zerolinewidth\":2},\"scene\":{\"xaxis\":{\"backgroundcolor\":\"#E5ECF6\",\"gridcolor\":\"white\",\"linecolor\":\"white\",\"showbackground\":true,\"ticks\":\"\",\"zerolinecolor\":\"white\",\"gridwidth\":2},\"yaxis\":{\"backgroundcolor\":\"#E5ECF6\",\"gridcolor\":\"white\",\"linecolor\":\"white\",\"showbackground\":true,\"ticks\":\"\",\"zerolinecolor\":\"white\",\"gridwidth\":2},\"zaxis\":{\"backgroundcolor\":\"#E5ECF6\",\"gridcolor\":\"white\",\"linecolor\":\"white\",\"showbackground\":true,\"ticks\":\"\",\"zerolinecolor\":\"white\",\"gridwidth\":2}},\"shapedefaults\":{\"line\":{\"color\":\"#2a3f5f\"}},\"annotationdefaults\":{\"arrowcolor\":\"#2a3f5f\",\"arrowhead\":0,\"arrowwidth\":1},\"geo\":{\"bgcolor\":\"white\",\"landcolor\":\"#E5ECF6\",\"subunitcolor\":\"white\",\"showland\":true,\"showlakes\":true,\"lakecolor\":\"white\"},\"title\":{\"x\":0.05},\"mapbox\":{\"style\":\"light\"}}},\"xaxis\":{\"anchor\":\"y\",\"domain\":[0.0,1.0],\"title\":{\"text\":\"slide_name\"}},\"yaxis\":{\"anchor\":\"x\",\"domain\":[0.0,1.0],\"title\":{\"text\":\"best_row_slope\"}},\"legend\":{\"title\":{\"text\":\"scan_status\"},\"tracegroupgap\":0},\"margin\":{\"t\":60}},                        {\"responsive\": true}                    ).then(function(){\n",
       "                            \n",
       "var gd = document.getElementById('62797247-5794-4f91-bc56-ba7115f7c839');\n",
       "var x = new MutationObserver(function (mutations, observer) {{\n",
       "        var display = window.getComputedStyle(gd).display;\n",
       "        if (!display || display === 'none') {{\n",
       "            console.log([gd, 'removed!']);\n",
       "            Plotly.purge(gd);\n",
       "            observer.disconnect();\n",
       "        }}\n",
       "}});\n",
       "\n",
       "// Listen for the removal of the full notebook cells\n",
       "var notebookContainer = gd.closest('#notebook-container');\n",
       "if (notebookContainer) {{\n",
       "    x.observe(notebookContainer, {childList: true});\n",
       "}}\n",
       "\n",
       "// Listen for the clearing of the current output cell\n",
       "var outputEl = gd.closest('.output');\n",
       "if (outputEl) {{\n",
       "    x.observe(outputEl, {childList: true});\n",
       "}}\n",
       "\n",
       "                        })                };                });            </script>        </div>"
      ]
     },
     "metadata": {},
     "output_type": "display_data"
    }
   ],
   "source": [
    "# fig = go.Figure()\n",
    "# fig.add_trace(go.Scatter(x = df['slide_name'], y = df['best_row_slope'], mode = 'markers', \n",
    "#                          marker_color = df['scan_status']))\n",
    "fig = px.scatter(df, x = df['slide_name'], y = df['best_row_slope'], color = df['scan_status'])\n",
    "fig.show()"
   ]
  },
  {
   "cell_type": "code",
   "execution_count": null,
   "id": "85589e52",
   "metadata": {},
   "outputs": [],
   "source": []
  }
 ],
 "metadata": {
  "kernelspec": {
   "display_name": "Python 3 (ipykernel)",
   "language": "python",
   "name": "python3"
  },
  "language_info": {
   "codemirror_mode": {
    "name": "ipython",
    "version": 3
   },
   "file_extension": ".py",
   "mimetype": "text/x-python",
   "name": "python",
   "nbconvert_exporter": "python",
   "pygments_lexer": "ipython3",
   "version": "3.8.10"
  }
 },
 "nbformat": 4,
 "nbformat_minor": 5
}
